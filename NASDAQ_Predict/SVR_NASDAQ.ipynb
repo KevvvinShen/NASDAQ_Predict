{
 "cells": [
  {
   "cell_type": "code",
   "execution_count": 1,
   "id": "17cfff06",
   "metadata": {},
   "outputs": [],
   "source": [
    "#Basic packages always been used\n",
    "import pandas as pd\n",
    "import numpy as np\n",
    "import sktime\n",
    "import matplotlib.pyplot as plt\n",
    "from datetime import datetime\n",
    "# Function for spilting training & testing data set\n",
    "from sklearn.model_selection import train_test_split\n",
    "# ALgorithm\n",
    "from sklearn import tree\n",
    "from sklearn.svm import SVR\n",
    "from sklearn.tree import DecisionTreeRegressor\n",
    "from sklearn.metrics import mean_squared_error\n",
    "# Functions for evaluation\n",
    "from sklearn.model_selection import cross_val_score\n",
    "from sklearn.metrics import accuracy_score\n",
    "from sklearn.metrics import f1_score\n",
    "from sklearn.metrics import precision_score\n",
    "from sklearn.metrics import recall_score\n",
    "from sklearn.metrics import confusion_matrix\n",
    "from sklearn.metrics import plot_confusion_matrix\n",
    "from sklearn.metrics import plot_roc_curve, roc_auc_score, roc_curve\n",
    "from sklearn.metrics import mean_squared_error, mean_absolute_error, mean_absolute_percentage_error\n",
    "from sktime.performance_metrics.forecasting import mean_absolute_scaled_error"
   ]
  },
  {
   "cell_type": "code",
   "execution_count": 2,
   "id": "c1920bbe",
   "metadata": {},
   "outputs": [],
   "source": [
    "data = pd.read_csv(\"nasdaq.csv\")"
   ]
  },
  {
   "cell_type": "code",
   "execution_count": 3,
   "id": "bec63d71",
   "metadata": {},
   "outputs": [],
   "source": [
    "x=data.drop(['Date','Close'],axis=1).copy()\n",
    "y=data['Close'].copy()"
   ]
  },
  {
   "cell_type": "code",
   "execution_count": 4,
   "id": "4bcdd473",
   "metadata": {},
   "outputs": [],
   "source": [
    "x_train, x_test, y_train, y_test = train_test_split(x, y, test_size = 0.2, random_state = 0)"
   ]
  },
  {
   "cell_type": "markdown",
   "id": "5e815413",
   "metadata": {},
   "source": [
    "### SVR_RBF Holdout + Cross Validation Expending Window"
   ]
  },
  {
   "cell_type": "code",
   "execution_count": 5,
   "id": "eb309aa6",
   "metadata": {},
   "outputs": [],
   "source": [
    "x_train1 = np.array(x[0:62])\n",
    "y_train1 = np.array(y[0:62])\n",
    "x_validation1 = np.array(x[62:124])\n",
    "y_validation1 = np.array(y[62:124])\n",
    "\n",
    "x_train2 = np.array(x[0:124])\n",
    "y_train2 = np.array(y[0:124])\n",
    "x_validation2 = np.array(x[124:186])\n",
    "y_validation2 = np.array(y[124:186])\n",
    "\n",
    "x_train3 = np.array(x[0:186])\n",
    "y_train3 = np.array(y[0:186])\n",
    "x_validation3 = np.array(x[186:250])\n",
    "y_validation3 = np.array(y[186:250])"
   ]
  },
  {
   "cell_type": "code",
   "execution_count": 6,
   "id": "e0f6284d",
   "metadata": {},
   "outputs": [
    {
     "name": "stdout",
     "output_type": "stream",
     "text": [
      "MSE:\n",
      "mse_2_5: 4489132.0\n",
      "mse_2_20: 4489132.0\n",
      "mse_2_100: 4489132.0\n",
      "mse_6_5: 4489131.82\n",
      "mse_6_20: 4489131.82\n",
      "mse_6_100: 4489131.82\n",
      "mse_8_5: 2654618.52\n",
      "mse_8_20: 2654618.39\n",
      "mse_8_100: 2654667.84\n"
     ]
    }
   ],
   "source": [
    "a = [2e-10,2e-6,2**8]\n",
    "b = [2e-15,2e-10,2e-1]\n",
    "\n",
    "mse_1_1 = 0\n",
    "mse_1_2 = 0\n",
    "mse_1_3 = 0\n",
    "mse_2_1 = 0\n",
    "mse_2_2 = 0\n",
    "mse_2_3 = 0\n",
    "mse_3_1 = 0\n",
    "mse_3_2 = 0\n",
    "mse_3_3 = 0\n",
    "\n",
    "for i in a:\n",
    "    for j in b:\n",
    "        model=SVR(kernel='rbf', C=i, epsilon=j)\n",
    "        model.fit(x_train1,y_train1)\n",
    "            \n",
    "        train_pred=model.predict(x_validation1)\n",
    "        mse=mean_squared_error(y_validation1,train_pred,squared=True)\n",
    "            \n",
    "        if i==2e-10 and j==2e-15:\n",
    "            mse_1_1 += mse\n",
    "        if i==2e-10 and j==2e-10:\n",
    "            mse_1_2 += mse\n",
    "        if i==2e-10 and j==2e-1:\n",
    "            mse_1_3 += mse\n",
    "        if i==2e-6 and j==2e-15:\n",
    "            mse_2_1 += mse\n",
    "        if i==2e-6 and j==2e-10:\n",
    "            mse_2_2 += mse\n",
    "        if i==2e-6 and j==2e-1:\n",
    "            mse_2_3 += mse\n",
    "        if i==2**8 and j==2e-15:\n",
    "            mse_3_1 += mse\n",
    "        if i==2**8 and j==2e-10:\n",
    "            mse_3_2 += mse\n",
    "        if i==2**8 and j==2e-1:\n",
    "            mse_3_3 += mse\n",
    "                \n",
    "print('MSE:')\n",
    "print('mse_2_5:',round((mse_1_1),2))\n",
    "print('mse_2_20:',round((mse_1_2),2))\n",
    "print('mse_2_100:',round((mse_1_3),2))\n",
    "print('mse_6_5:',round((mse_2_1),2))\n",
    "print('mse_6_20:',round((mse_2_2),2))\n",
    "print('mse_6_100:',round((mse_2_3),2))\n",
    "print('mse_8_5:',round((mse_3_1),2))\n",
    "print('mse_8_20:',round((mse_3_2),2))\n",
    "print('mse_8_100:',round((mse_3_3),2))"
   ]
  },
  {
   "cell_type": "code",
   "execution_count": 7,
   "id": "c722499c",
   "metadata": {},
   "outputs": [
    {
     "name": "stdout",
     "output_type": "stream",
     "text": [
      "MSE:\n",
      "mse_2_5: 4115664.33\n",
      "mse_2_20: 4115664.33\n",
      "mse_2_100: 4115664.33\n",
      "mse_6_5: 4115664.11\n",
      "mse_6_20: 4115664.11\n",
      "mse_6_100: 4115664.11\n",
      "mse_8_5: 250151.49\n",
      "mse_8_20: 250151.5\n",
      "mse_8_100: 250231.42\n"
     ]
    }
   ],
   "source": [
    "a = [2e-10,2e-6,2**8]\n",
    "b = [2e-15,2e-10,2e-1]\n",
    "\n",
    "mse_1_1 = 0\n",
    "mse_1_2 = 0\n",
    "mse_1_3 = 0\n",
    "mse_2_1 = 0\n",
    "mse_2_2 = 0\n",
    "mse_2_3 = 0\n",
    "mse_3_1 = 0\n",
    "mse_3_2 = 0\n",
    "mse_3_3 = 0\n",
    "\n",
    "for i in a:\n",
    "    for j in b:\n",
    "        model=SVR(kernel='rbf', C=i, epsilon=j)\n",
    "        model.fit(x_train2,y_train2)\n",
    "            \n",
    "        train_pred=model.predict(x_validation2)\n",
    "        mse=mean_squared_error(y_validation2,train_pred,squared=True)\n",
    "            \n",
    "        if i==2e-10 and j==2e-15:\n",
    "            mse_1_1 += mse\n",
    "        if i==2e-10 and j==2e-10:\n",
    "            mse_1_2 += mse\n",
    "        if i==2e-10 and j==2e-1:\n",
    "            mse_1_3 += mse\n",
    "        if i==2e-6 and j==2e-15:\n",
    "            mse_2_1 += mse\n",
    "        if i==2e-6 and j==2e-10:\n",
    "            mse_2_2 += mse\n",
    "        if i==2e-6 and j==2e-1:\n",
    "            mse_2_3 += mse\n",
    "        if i==2**8 and j==2e-15:\n",
    "            mse_3_1 += mse\n",
    "        if i==2**8 and j==2e-10:\n",
    "            mse_3_2 += mse\n",
    "        if i==2**8 and j==2e-1:\n",
    "            mse_3_3 += mse\n",
    "                \n",
    "print('MSE:')\n",
    "print('mse_2_5:',round((mse_1_1),2))\n",
    "print('mse_2_20:',round((mse_1_2),2))\n",
    "print('mse_2_100:',round((mse_1_3),2))\n",
    "print('mse_6_5:',round((mse_2_1),2))\n",
    "print('mse_6_20:',round((mse_2_2),2))\n",
    "print('mse_6_100:',round((mse_2_3),2))\n",
    "print('mse_8_5:',round((mse_3_1),2))\n",
    "print('mse_8_20:',round((mse_3_2),2))\n",
    "print('mse_8_100:',round((mse_3_3),2))"
   ]
  },
  {
   "cell_type": "code",
   "execution_count": 8,
   "id": "31f87a06",
   "metadata": {},
   "outputs": [
    {
     "name": "stdout",
     "output_type": "stream",
     "text": [
      "MSE:\n",
      "mse_2_5: 4308210.99\n",
      "mse_2_20: 4308210.99\n",
      "mse_2_100: 4308210.99\n",
      "mse_6_5: 4308210.68\n",
      "mse_6_20: 4308210.68\n",
      "mse_6_100: 4308210.68\n",
      "mse_8_5: 294160.03\n",
      "mse_8_20: 294159.45\n",
      "mse_8_100: 294896.72\n"
     ]
    }
   ],
   "source": [
    "a = [2e-10,2e-6,2**8]\n",
    "b = [2e-15,2e-10,2e-1]\n",
    "\n",
    "mse_1_1 = 0\n",
    "mse_1_2 = 0\n",
    "mse_1_3 = 0\n",
    "mse_2_1 = 0\n",
    "mse_2_2 = 0\n",
    "mse_2_3 = 0\n",
    "mse_3_1 = 0\n",
    "mse_3_2 = 0\n",
    "mse_3_3 = 0\n",
    "\n",
    "for i in a:\n",
    "    for j in b:\n",
    "        model=SVR(kernel='rbf', C=i, epsilon=j)\n",
    "        model.fit(x_train3,y_train3)\n",
    "            \n",
    "        train_pred=model.predict(x_validation3)\n",
    "        mse=mean_squared_error(y_validation3,train_pred,squared=True)\n",
    "            \n",
    "        if i==2e-10 and j==2e-15:\n",
    "            mse_1_1 += mse\n",
    "        if i==2e-10 and j==2e-10:\n",
    "            mse_1_2 += mse\n",
    "        if i==2e-10 and j==2e-1:\n",
    "            mse_1_3 += mse\n",
    "        if i==2e-6 and j==2e-15:\n",
    "            mse_2_1 += mse\n",
    "        if i==2e-6 and j==2e-10:\n",
    "            mse_2_2 += mse\n",
    "        if i==2e-6 and j==2e-1:\n",
    "            mse_2_3 += mse\n",
    "        if i==2**8 and j==2e-15:\n",
    "            mse_3_1 += mse\n",
    "        if i==2**8 and j==2e-10:\n",
    "            mse_3_2 += mse\n",
    "        if i==2**8 and j==2e-1:\n",
    "            mse_3_3 += mse\n",
    "                \n",
    "print('MSE:')\n",
    "print('mse_2_5:',round((mse_1_1),2))\n",
    "print('mse_2_20:',round((mse_1_2),2))\n",
    "print('mse_2_100:',round((mse_1_3),2))\n",
    "print('mse_6_5:',round((mse_2_1),2))\n",
    "print('mse_6_20:',round((mse_2_2),2))\n",
    "print('mse_6_100:',round((mse_2_3),2))\n",
    "print('mse_8_5:',round((mse_3_1),2))\n",
    "print('mse_8_20:',round((mse_3_2),2))\n",
    "print('mse_8_100:',round((mse_3_3),2))"
   ]
  },
  {
   "cell_type": "code",
   "execution_count": 9,
   "id": "95bdcb50",
   "metadata": {},
   "outputs": [
    {
     "name": "stdout",
     "output_type": "stream",
     "text": [
      "mse_2_5: 4304335.77 +/- 152492.16\n",
      "mse_2_20: 4304335.77 +/- 152492.16\n",
      "mse_2_100: 4304335.77 +/- 152492.16\n",
      "mse_6_5: 4304335.54 +/- 152492.18\n",
      "mse_6_20: 4304335.54 +/- 152492.18\n",
      "mse_6_100: 4304335.54 +/- 152492.18\n",
      "mse_8_5: 1066310.01 +/- 1123247.41\n",
      "mse_8_20: 1066309.78 +/- 1123247.48\n",
      "mse_8_100: 1066598.66 +/- 1123082.53\n"
     ]
    }
   ],
   "source": [
    "mse_2_5 = [4489132.0, 4115664.33, 4308210.99]\n",
    "mse_2_20 = [4489132.0, 4115664.33, 4308210.99]\n",
    "mse_2_100 = [4489132.0, 4115664.33, 4308210.99]\n",
    "mse_6_5 = [4489131.82, 4115664.11, 4308210.68]\n",
    "mse_6_20 = [4489131.82, 4115664.11, 4308210.68]\n",
    "mse_6_100 = [4489131.82, 4115664.11, 4308210.68]\n",
    "mse_8_5 = [2654618.52, 250151.49, 294160.03]\n",
    "mse_8_20 = [2654618.39, 250151.5, 294159.45]\n",
    "mse_8_100 = [2654667.84, 250231.42, 294896.72]\n",
    "\n",
    "print('mse_2_5:',round(np.mean(mse_2_5),2),'+/-',round(np.std(mse_2_5),2))\n",
    "print('mse_2_20:',round(np.mean(mse_2_20),2),'+/-',round(np.std(mse_2_20),2))\n",
    "print('mse_2_100:',round(np.mean(mse_2_100),2),'+/-',round(np.std(mse_2_100),2))\n",
    "print('mse_6_5:',round(np.mean(mse_6_5),2),'+/-',round(np.std(mse_6_5),2))\n",
    "print('mse_6_20:',round(np.mean(mse_6_20),2),'+/-',round(np.std(mse_6_20),2))\n",
    "print('mse_6_100:',round(np.mean(mse_6_100),2),'+/-',round(np.std(mse_6_100),2))\n",
    "print('mse_8_5:',round(np.mean(mse_8_5),2),'+/-',round(np.std(mse_8_5),2))\n",
    "print('mse_8_20:',round(np.mean(mse_8_20),2),'+/-',round(np.std(mse_8_20),2))\n",
    "print('mse_8_100:',round(np.mean(mse_8_100),2),'+/-',round(np.std(mse_8_100),2))"
   ]
  },
  {
   "cell_type": "code",
   "execution_count": 10,
   "id": "9e0efa44",
   "metadata": {},
   "outputs": [
    {
     "name": "stdout",
     "output_type": "stream",
     "text": [
      "train_mse :  77737.6059\n",
      "train_rmse:  278.8146\n",
      "train_mape:  0.0173\n",
      "train_smape:  1.7316\n",
      "train_mase:  1.0784\n",
      "train_mdrae:  1.0235\n",
      "\n",
      "test_mse :  366651.2437\n",
      "test_rmse:  605.5173\n",
      "test_mape:  0.046\n",
      "test_smape:  4.4475\n",
      "test_mase:  2.8089\n",
      "test_mdrae:  2.4469\n"
     ]
    }
   ],
   "source": [
    "x_train, x_test, y_train, y_test = train_test_split(x, y, test_size = 0.2, random_state = 0, shuffle=False)\n",
    "model=SVR(kernel='rbf', C=2**8, epsilon=2e-10)\n",
    "model.fit(x_train,y_train)\n",
    "\n",
    "train_pred = model.predict(x_train)\n",
    "train_mse = mean_squared_error(y_train,train_pred,squared=True)\n",
    "train_rmse = mean_squared_error(y_train,train_pred, squared=False)\n",
    "train_mape = mean_absolute_percentage_error(y_train,train_pred)\n",
    "train_smape = 2*np.mean(np.abs(train_pred-y_train)/(np.abs(train_pred)+np.abs(y_train)))*100\n",
    "train_mase = mean_absolute_scaled_error(y_train, train_pred, y_train=y_train)\n",
    "train_mdrae = np.median(np.abs(y_train-train_pred)/(np.abs(y_train-x_train['Close-1'])))\n",
    "\n",
    "test_pred = model.predict(x_test)\n",
    "test_mse = mean_squared_error(y_test,test_pred,squared=True)\n",
    "test_rmse = mean_squared_error(y_test,test_pred, squared=False)\n",
    "test_mape = mean_absolute_percentage_error(y_test,test_pred)\n",
    "test_smape = 2*np.mean(np.abs(test_pred-y_test)/(np.abs(test_pred)+np.abs(y_test)))*100\n",
    "test_mase = mean_absolute_scaled_error(y_test, test_pred, y_train=y_test)\n",
    "test_mdrae = np.median(np.abs(y_test-test_pred)/(np.abs(y_test-x_test['Close-1'])))\n",
    "\n",
    "print('train_mse : ', np.round(train_mse,4))\n",
    "print('train_rmse: ', np.round(train_rmse,4))\n",
    "print('train_mape: ', np.round(train_mape,4))\n",
    "print('train_smape: ', np.round(train_smape,4))\n",
    "print('train_mase: ', np.round(train_mase,4))\n",
    "print('train_mdrae: ', np.round(train_mdrae,4))\n",
    "print('')\n",
    "print('test_mse : ', np.round(test_mse,4))\n",
    "print('test_rmse: ', np.round(test_rmse,4))\n",
    "print('test_mape: ', np.round(test_mape,4))\n",
    "print('test_smape: ', np.round(test_smape,4))\n",
    "print('test_mase: ', np.round(test_mase,4))\n",
    "print('test_mdrae: ', np.round(test_mdrae,4))"
   ]
  },
  {
   "cell_type": "code",
   "execution_count": 11,
   "id": "ff49843c",
   "metadata": {},
   "outputs": [
    {
     "data": {
      "image/png": "[encoded data removed]",
      "text/plain": [
       "<Figure size 432x288 with 1 Axes>"
      ]
     },
     "metadata": {
      "needs_background": "light"
     },
     "output_type": "display_data"
    }
   ],
   "source": [
    "plt.plot(train_pred, color='red', label='train_pred')\n",
    "plt.plot(y_train, color='blue', label='y_train')\n",
    "plt.xlabel('time->')\n",
    "plt.ylabel('prices->')\n",
    "plt.title('SVR_RBF + Expending Window')\n",
    "plt.legend(loc='upper left')\n",
    "plt.show()"
   ]
  },
  {
   "cell_type": "code",
   "execution_count": 12,
   "id": "c894383a",
   "metadata": {},
   "outputs": [
    {
     "data": {
      "image/png": "[encoded data removed]",
      "text/plain": [
       "<Figure size 432x288 with 1 Axes>"
      ]
     },
     "metadata": {
      "needs_background": "light"
     },
     "output_type": "display_data"
    }
   ],
   "source": [
    "y_test = y_test.reset_index(drop=True)\n",
    "plt.plot(test_pred, color='red', label='test_pred')\n",
    "plt.plot(y_test, color='blue', label='y_test')\n",
    "plt.xlabel('time->')\n",
    "plt.ylabel('prices->')\n",
    "plt.title('SVR_RBF + Expending Window')\n",
    "plt.legend(loc='upper left')\n",
    "plt.show()"
   ]
  },
  {
   "cell_type": "markdown",
   "id": "f0f6fbc2",
   "metadata": {},
   "source": [
    "### SVR_RBF Holdout + Cross Validation Rolling Window"
   ]
  },
  {
   "cell_type": "code",
   "execution_count": 5,
   "id": "b187aa5f",
   "metadata": {},
   "outputs": [],
   "source": [
    "x_train1 = np.array(x[0:62])\n",
    "y_train1 = np.array(y[0:62])\n",
    "x_validation1 = np.array(x[62:124])\n",
    "y_validation1 = np.array(y[62:124])\n",
    "\n",
    "x_train2 = np.array(x[62:124])\n",
    "y_train2 = np.array(y[62:124])\n",
    "x_validation2 = np.array(x[124:186])\n",
    "y_validation2 = np.array(y[124:186])\n",
    "\n",
    "x_train3 = np.array(x[124:186])\n",
    "y_train3 = np.array(y[124:186])\n",
    "x_validation3 = np.array(x[186:250])\n",
    "y_validation3 = np.array(y[186:250])"
   ]
  },
  {
   "cell_type": "code",
   "execution_count": 6,
   "id": "1ea3340e",
   "metadata": {
    "scrolled": true
   },
   "outputs": [
    {
     "name": "stdout",
     "output_type": "stream",
     "text": [
      "MSE:\n",
      "mse_2_5: 4489132.0\n",
      "mse_2_20: 4489132.0\n",
      "mse_2_100: 4489132.0\n",
      "mse_6_5: 4489131.82\n",
      "mse_6_20: 4489131.82\n",
      "mse_6_100: 4489131.82\n",
      "mse_8_5: 2654618.52\n",
      "mse_8_20: 2654618.39\n",
      "mse_8_100: 2654667.84\n"
     ]
    }
   ],
   "source": [
    "a = [2e-10,2e-6,2**8]\n",
    "b = [2e-15,2e-10,2e-1]\n",
    "\n",
    "mse_1_1 = 0\n",
    "mse_1_2 = 0\n",
    "mse_1_3 = 0\n",
    "mse_2_1 = 0\n",
    "mse_2_2 = 0\n",
    "mse_2_3 = 0\n",
    "mse_3_1 = 0\n",
    "mse_3_2 = 0\n",
    "mse_3_3 = 0\n",
    "\n",
    "for i in a:\n",
    "    for j in b:\n",
    "        model=SVR(kernel='rbf', C=i, epsilon=j)\n",
    "        model.fit(x_train1,y_train1)\n",
    "            \n",
    "        train_pred=model.predict(x_validation1)\n",
    "        mse=mean_squared_error(y_validation1,train_pred,squared=True)\n",
    "            \n",
    "        if i==2e-10 and j==2e-15:\n",
    "            mse_1_1 += mse\n",
    "        if i==2e-10 and j==2e-10:\n",
    "            mse_1_2 += mse\n",
    "        if i==2e-10 and j==2e-1:\n",
    "            mse_1_3 += mse\n",
    "        if i==2e-6 and j==2e-15:\n",
    "            mse_2_1 += mse\n",
    "        if i==2e-6 and j==2e-10:\n",
    "            mse_2_2 += mse\n",
    "        if i==2e-6 and j==2e-1:\n",
    "            mse_2_3 += mse\n",
    "        if i==2**8 and j==2e-15:\n",
    "            mse_3_1 += mse\n",
    "        if i==2**8 and j==2e-10:\n",
    "            mse_3_2 += mse\n",
    "        if i==2**8 and j==2e-1:\n",
    "            mse_3_3 += mse\n",
    "                \n",
    "print('MSE:')\n",
    "print('mse_2_5:',round((mse_1_1),2))\n",
    "print('mse_2_20:',round((mse_1_2),2))\n",
    "print('mse_2_100:',round((mse_1_3),2))\n",
    "print('mse_6_5:',round((mse_2_1),2))\n",
    "print('mse_6_20:',round((mse_2_2),2))\n",
    "print('mse_6_100:',round((mse_2_3),2))\n",
    "print('mse_8_5:',round((mse_3_1),2))\n",
    "print('mse_8_20:',round((mse_3_2),2))\n",
    "print('mse_8_100:',round((mse_3_3),2))"
   ]
  },
  {
   "cell_type": "code",
   "execution_count": 7,
   "id": "9fc91bf9",
   "metadata": {},
   "outputs": [
    {
     "name": "stdout",
     "output_type": "stream",
     "text": [
      "MSE:\n",
      "mse_2_5: 1810338.98\n",
      "mse_2_20: 1810338.98\n",
      "mse_2_100: 1810338.98\n",
      "mse_6_5: 1810338.91\n",
      "mse_6_20: 1810338.91\n",
      "mse_6_100: 1810338.91\n",
      "mse_8_5: 225470.41\n",
      "mse_8_20: 225470.31\n",
      "mse_8_100: 225538.19\n"
     ]
    }
   ],
   "source": [
    "a = [2e-10,2e-6,2**8]\n",
    "b = [2e-15,2e-10,2e-1]\n",
    "\n",
    "mse_1_1 = 0\n",
    "mse_1_2 = 0\n",
    "mse_1_3 = 0\n",
    "mse_2_1 = 0\n",
    "mse_2_2 = 0\n",
    "mse_2_3 = 0\n",
    "mse_3_1 = 0\n",
    "mse_3_2 = 0\n",
    "mse_3_3 = 0\n",
    "\n",
    "for i in a:\n",
    "    for j in b:\n",
    "        model=SVR(kernel='rbf', C=i, epsilon=j)\n",
    "        model.fit(x_train2,y_train2)\n",
    "            \n",
    "        train_pred=model.predict(x_validation2)\n",
    "        mse=mean_squared_error(y_validation2,train_pred,squared=True)\n",
    "            \n",
    "        if i==2e-10 and j==2e-15:\n",
    "            mse_1_1 += mse\n",
    "        if i==2e-10 and j==2e-10:\n",
    "            mse_1_2 += mse\n",
    "        if i==2e-10 and j==2e-1:\n",
    "            mse_1_3 += mse\n",
    "        if i==2e-6 and j==2e-15:\n",
    "            mse_2_1 += mse\n",
    "        if i==2e-6 and j==2e-10:\n",
    "            mse_2_2 += mse\n",
    "        if i==2e-6 and j==2e-1:\n",
    "            mse_2_3 += mse\n",
    "        if i==2**8 and j==2e-15:\n",
    "            mse_3_1 += mse\n",
    "        if i==2**8 and j==2e-10:\n",
    "            mse_3_2 += mse\n",
    "        if i==2**8 and j==2e-1:\n",
    "            mse_3_3 += mse\n",
    "                \n",
    "print('MSE:')\n",
    "print('mse_2_5:',round((mse_1_1),2))\n",
    "print('mse_2_20:',round((mse_1_2),2))\n",
    "print('mse_2_100:',round((mse_1_3),2))\n",
    "print('mse_6_5:',round((mse_2_1),2))\n",
    "print('mse_6_20:',round((mse_2_2),2))\n",
    "print('mse_6_100:',round((mse_2_3),2))\n",
    "print('mse_8_5:',round((mse_3_1),2))\n",
    "print('mse_8_20:',round((mse_3_2),2))\n",
    "print('mse_8_100:',round((mse_3_3),2))"
   ]
  },
  {
   "cell_type": "code",
   "execution_count": 8,
   "id": "2196563b",
   "metadata": {},
   "outputs": [
    {
     "name": "stdout",
     "output_type": "stream",
     "text": [
      "MSE:\n",
      "mse_2_5: 949720.12\n",
      "mse_2_20: 949720.12\n",
      "mse_2_100: 949720.12\n",
      "mse_6_5: 949720.08\n",
      "mse_6_20: 949720.08\n",
      "mse_6_100: 949720.08\n",
      "mse_8_5: 152382.87\n",
      "mse_8_20: 152382.79\n",
      "mse_8_100: 152466.61\n"
     ]
    }
   ],
   "source": [
    "a = [2e-10,2e-6,2**8]\n",
    "b = [2e-15,2e-10,2e-1]\n",
    "\n",
    "mse_1_1 = 0\n",
    "mse_1_2 = 0\n",
    "mse_1_3 = 0\n",
    "mse_2_1 = 0\n",
    "mse_2_2 = 0\n",
    "mse_2_3 = 0\n",
    "mse_3_1 = 0\n",
    "mse_3_2 = 0\n",
    "mse_3_3 = 0\n",
    "\n",
    "for i in a:\n",
    "    for j in b:\n",
    "        model=SVR(kernel='rbf', C=i, epsilon=j)\n",
    "        model.fit(x_train3,y_train3)\n",
    "            \n",
    "        train_pred=model.predict(x_validation3)\n",
    "        mse=mean_squared_error(y_validation3,train_pred,squared=True)\n",
    "            \n",
    "        if i==2e-10 and j==2e-15:\n",
    "            mse_1_1 += mse\n",
    "        if i==2e-10 and j==2e-10:\n",
    "            mse_1_2 += mse\n",
    "        if i==2e-10 and j==2e-1:\n",
    "            mse_1_3 += mse\n",
    "        if i==2e-6 and j==2e-15:\n",
    "            mse_2_1 += mse\n",
    "        if i==2e-6 and j==2e-10:\n",
    "            mse_2_2 += mse\n",
    "        if i==2e-6 and j==2e-1:\n",
    "            mse_2_3 += mse\n",
    "        if i==2**8 and j==2e-15:\n",
    "            mse_3_1 += mse\n",
    "        if i==2**8 and j==2e-10:\n",
    "            mse_3_2 += mse\n",
    "        if i==2**8 and j==2e-1:\n",
    "            mse_3_3 += mse\n",
    "                \n",
    "print('MSE:')\n",
    "print('mse_2_5:',round((mse_1_1),2))\n",
    "print('mse_2_20:',round((mse_1_2),2))\n",
    "print('mse_2_100:',round((mse_1_3),2))\n",
    "print('mse_6_5:',round((mse_2_1),2))\n",
    "print('mse_6_20:',round((mse_2_2),2))\n",
    "print('mse_6_100:',round((mse_2_3),2))\n",
    "print('mse_8_5:',round((mse_3_1),2))\n",
    "print('mse_8_20:',round((mse_3_2),2))\n",
    "print('mse_8_100:',round((mse_3_3),2))"
   ]
  },
  {
   "cell_type": "code",
   "execution_count": 17,
   "id": "03cd7932",
   "metadata": {},
   "outputs": [
    {
     "name": "stdout",
     "output_type": "stream",
     "text": [
      "mse_2_5: 2416397.03 +/- 1507169.29\n",
      "mse_2_20: 2416397.03 +/- 1507169.29\n",
      "mse_2_100: 2416397.03 +/- 1507169.29\n",
      "mse_6_5: 2416396.94 +/- 1507169.23\n",
      "mse_6_20: 2416396.94 +/- 1507169.23\n",
      "mse_6_100: 2416396.94 +/- 1507169.23\n",
      "mse_8_5: 1010823.93 +/- 1162721.21\n",
      "mse_8_20: 1010823.83 +/- 1162721.19\n",
      "mse_8_100: 1010890.88 +/- 1162708.59\n"
     ]
    }
   ],
   "source": [
    "mse_2_5 = [4489132.0, 1810338.98, 949720.12]\n",
    "mse_2_20 = [4489132.0, 1810338.98, 949720.12]\n",
    "mse_2_100 = [4489132.0, 1810338.98, 949720.12]\n",
    "mse_6_5 = [4489131.82, 1810338.91, 949720.08]\n",
    "mse_6_20 = [4489131.82, 1810338.91, 949720.08]\n",
    "mse_6_100 = [4489131.82, 1810338.91, 949720.08]\n",
    "mse_8_5 = [2654618.52, 225470.41, 152382.87]\n",
    "mse_8_20 = [2654618.39, 225470.31, 152382.79]\n",
    "mse_8_100 = [2654667.84, 225538.19, 152466.61]\n",
    "\n",
    "print('mse_2_5:',round(np.mean(mse_2_5),2),'+/-',round(np.std(mse_2_5),2))\n",
    "print('mse_2_20:',round(np.mean(mse_2_20),2),'+/-',round(np.std(mse_2_20),2))\n",
    "print('mse_2_100:',round(np.mean(mse_2_100),2),'+/-',round(np.std(mse_2_100),2))\n",
    "print('mse_6_5:',round(np.mean(mse_6_5),2),'+/-',round(np.std(mse_6_5),2))\n",
    "print('mse_6_20:',round(np.mean(mse_6_20),2),'+/-',round(np.std(mse_6_20),2))\n",
    "print('mse_6_100:',round(np.mean(mse_6_100),2),'+/-',round(np.std(mse_6_100),2))\n",
    "print('mse_8_5:',round(np.mean(mse_8_5),2),'+/-',round(np.std(mse_8_5),2))\n",
    "print('mse_8_20:',round(np.mean(mse_8_20),2),'+/-',round(np.std(mse_8_20),2))\n",
    "print('mse_8_100:',round(np.mean(mse_8_100),2),'+/-',round(np.std(mse_8_100),2))"
   ]
  },
  {
   "cell_type": "code",
   "execution_count": 9,
   "id": "02129a7c",
   "metadata": {},
   "outputs": [
    {
     "name": "stdout",
     "output_type": "stream",
     "text": [
      "train_mse :  77737.6059\n",
      "train_rmse:  278.8146\n",
      "train_mape:  0.0173\n",
      "train_smape:  1.7316\n",
      "train_mase:  1.0784\n",
      "train_mdrae:  1.0235\n",
      "\n",
      "test_mse :  366651.2437\n",
      "test_rmse:  605.5173\n",
      "test_mape:  0.046\n",
      "test_smape:  4.4475\n",
      "test_mase:  2.8089\n",
      "test_mdrae:  2.4469\n"
     ]
    }
   ],
   "source": [
    "x_train, x_test, y_train, y_test = train_test_split(x, y, test_size = 0.2, random_state = 0, shuffle=False)\n",
    "model=SVR(kernel='rbf', C=2**8, epsilon=2e-10)\n",
    "model.fit(x_train,y_train)\n",
    "\n",
    "train_pred = model.predict(x_train)\n",
    "train_mse = mean_squared_error(y_train,train_pred,squared=True)\n",
    "train_rmse = mean_squared_error(y_train,train_pred, squared=False)\n",
    "train_mape = mean_absolute_percentage_error(y_train,train_pred)\n",
    "train_smape = 2*np.mean(np.abs(train_pred-y_train)/(np.abs(train_pred)+np.abs(y_train)))*100\n",
    "train_mase = mean_absolute_scaled_error(y_train, train_pred, y_train=y_train)\n",
    "train_mdrae = np.median(np.abs(y_train-train_pred)/(np.abs(y_train-x_train['Close-1'])))\n",
    "\n",
    "test_pred = model.predict(x_test)\n",
    "test_mse = mean_squared_error(y_test,test_pred,squared=True)\n",
    "test_rmse = mean_squared_error(y_test,test_pred, squared=False)\n",
    "test_mape = mean_absolute_percentage_error(y_test,test_pred)\n",
    "test_smape = 2*np.mean(np.abs(test_pred-y_test)/(np.abs(test_pred)+np.abs(y_test)))*100\n",
    "test_mase = mean_absolute_scaled_error(y_test, test_pred, y_train=y_test)\n",
    "test_mdrae = np.median(np.abs(y_test-test_pred)/(np.abs(y_test-x_test['Close-1'])))\n",
    "\n",
    "print('train_mse : ', np.round(train_mse,4))\n",
    "print('train_rmse: ', np.round(train_rmse,4))\n",
    "print('train_mape: ', np.round(train_mape,4))\n",
    "print('train_smape: ', np.round(train_smape,4))\n",
    "print('train_mase: ', np.round(train_mase,4))\n",
    "print('train_mdrae: ', np.round(train_mdrae,4))\n",
    "print('')\n",
    "print('test_mse : ', np.round(test_mse,4))\n",
    "print('test_rmse: ', np.round(test_rmse,4))\n",
    "print('test_mape: ', np.round(test_mape,4))\n",
    "print('test_smape: ', np.round(test_smape,4))\n",
    "print('test_mase: ', np.round(test_mase,4))\n",
    "print('test_mdrae: ', np.round(test_mdrae,4))"
   ]
  },
  {
   "cell_type": "code",
   "execution_count": 19,
   "id": "789f74a2",
   "metadata": {},
   "outputs": [
    {
     "data": {
      "image/png": "[encoded data removed]",
      "text/plain": [
       "<Figure size 432x288 with 1 Axes>"
      ]
     },
     "metadata": {
      "needs_background": "light"
     },
     "output_type": "display_data"
    }
   ],
   "source": [
    "plt.plot(train_pred, color='red', label='train_pred')\n",
    "plt.plot(y_train, color='blue', label='y_train')\n",
    "plt.xlabel('days->')\n",
    "plt.ylabel('prices->')\n",
    "plt.title('SVR_RBF + Rolling Window')\n",
    "plt.legend(loc='upper left')\n",
    "plt.show()"
   ]
  },
  {
   "cell_type": "code",
   "execution_count": 20,
   "id": "7f64588b",
   "metadata": {},
   "outputs": [
    {
     "data": {
      "image/png": "[encoded data removed]",
      "text/plain": [
       "<Figure size 432x288 with 1 Axes>"
      ]
     },
     "metadata": {
      "needs_background": "light"
     },
     "output_type": "display_data"
    }
   ],
   "source": [
    "y_test = y_test.reset_index(drop=True)\n",
    "plt.plot(test_pred, color='red', label='test_pred')\n",
    "plt.plot(y_test, color='blue', label='y_test')\n",
    "plt.xlabel('days->')\n",
    "plt.ylabel('prices->')\n",
    "plt.title('SVR_RBF + Validation Rolling Window')\n",
    "plt.legend(loc='upper left')\n",
    "plt.show()"
   ]
  },
  {
   "cell_type": "markdown",
   "id": "86f13c37",
   "metadata": {},
   "source": [
    "### SVR_POLY Holdout + Cross Validation Expending Window"
   ]
  },
  {
   "cell_type": "code",
   "execution_count": 21,
   "id": "63b392c9",
   "metadata": {},
   "outputs": [],
   "source": [
    "x_train1 = np.array(x[0:62])\n",
    "y_train1 = np.array(y[0:62])\n",
    "x_validation1 = np.array(x[62:124])\n",
    "y_validation1 = np.array(y[62:124])\n",
    "\n",
    "x_train2 = np.array(x[0:124])\n",
    "y_train2 = np.array(y[0:124])\n",
    "x_validation2 = np.array(x[124:186])\n",
    "y_validation2 = np.array(y[124:186])\n",
    "\n",
    "x_train3 = np.array(x[0:186])\n",
    "y_train3 = np.array(y[0:186])\n",
    "x_validation3 = np.array(x[186:250])\n",
    "y_validation3 = np.array(y[186:250])"
   ]
  },
  {
   "cell_type": "code",
   "execution_count": 22,
   "id": "d7014c87",
   "metadata": {},
   "outputs": [
    {
     "name": "stdout",
     "output_type": "stream",
     "text": [
      "MSE:\n",
      "mse_2_5: 4489024.96\n",
      "mse_2_20: 4489024.96\n",
      "mse_2_100: 4489024.96\n",
      "mse_6_5: 3484335.86\n",
      "mse_6_20: 3484335.86\n",
      "mse_6_100: 3484335.86\n",
      "mse_8_5: 1280393.76\n",
      "mse_8_20: 890692.39\n",
      "mse_8_100: 654035.14\n"
     ]
    }
   ],
   "source": [
    "a = [2e-10,2e-6,2**8]\n",
    "b = [2e-15,2e-10,2e-1]\n",
    "\n",
    "mse_1_1 = 0\n",
    "mse_1_2 = 0\n",
    "mse_1_3 = 0\n",
    "mse_2_1 = 0\n",
    "mse_2_2 = 0\n",
    "mse_2_3 = 0\n",
    "mse_3_1 = 0\n",
    "mse_3_2 = 0\n",
    "mse_3_3 = 0\n",
    "\n",
    "for i in a:\n",
    "    for j in b:\n",
    "        model=SVR(kernel='poly', C=i, epsilon=j)\n",
    "        model.fit(x_train1,y_train1)\n",
    "            \n",
    "        train_pred=model.predict(x_validation1)\n",
    "        mse=mean_squared_error(y_validation1,train_pred,squared=True)\n",
    "            \n",
    "        if i==2e-10 and j==2e-15:\n",
    "            mse_1_1 += mse\n",
    "        if i==2e-10 and j==2e-10:\n",
    "            mse_1_2 += mse\n",
    "        if i==2e-10 and j==2e-1:\n",
    "            mse_1_3 += mse\n",
    "        if i==2e-6 and j==2e-15:\n",
    "            mse_2_1 += mse\n",
    "        if i==2e-6 and j==2e-10:\n",
    "            mse_2_2 += mse\n",
    "        if i==2e-6 and j==2e-1:\n",
    "            mse_2_3 += mse\n",
    "        if i==2**8 and j==2e-15:\n",
    "            mse_3_1 += mse\n",
    "        if i==2**8 and j==2e-10:\n",
    "            mse_3_2 += mse\n",
    "        if i==2**8 and j==2e-1:\n",
    "            mse_3_3 += mse\n",
    "                \n",
    "print('MSE:')\n",
    "print('mse_2_5:',round((mse_1_1),2))\n",
    "print('mse_2_20:',round((mse_1_2),2))\n",
    "print('mse_2_100:',round((mse_1_3),2))\n",
    "print('mse_6_5:',round((mse_2_1),2))\n",
    "print('mse_6_20:',round((mse_2_2),2))\n",
    "print('mse_6_100:',round((mse_2_3),2))\n",
    "print('mse_8_5:',round((mse_3_1),2))\n",
    "print('mse_8_20:',round((mse_3_2),2))\n",
    "print('mse_8_100:',round((mse_3_3),2))"
   ]
  },
  {
   "cell_type": "code",
   "execution_count": 23,
   "id": "05f5ab1e",
   "metadata": {},
   "outputs": [
    {
     "name": "stdout",
     "output_type": "stream",
     "text": [
      "MSE:\n",
      "mse_2_5: 4115647.06\n",
      "mse_2_20: 4115647.06\n",
      "mse_2_100: 4115647.06\n",
      "mse_6_5: 3959614.75\n",
      "mse_6_20: 3959614.75\n",
      "mse_6_100: 3959614.75\n",
      "mse_8_5: 100495.45\n",
      "mse_8_20: 100495.46\n",
      "mse_8_100: 88112.31\n"
     ]
    }
   ],
   "source": [
    "a = [2e-10,2e-6,2**8]\n",
    "b = [2e-15,2e-10,2e-1]\n",
    "\n",
    "mse_1_1 = 0\n",
    "mse_1_2 = 0\n",
    "mse_1_3 = 0\n",
    "mse_2_1 = 0\n",
    "mse_2_2 = 0\n",
    "mse_2_3 = 0\n",
    "mse_3_1 = 0\n",
    "mse_3_2 = 0\n",
    "mse_3_3 = 0\n",
    "\n",
    "for i in a:\n",
    "    for j in b:\n",
    "        model=SVR(kernel='poly', C=i, epsilon=j)\n",
    "        model.fit(x_train2,y_train2)\n",
    "            \n",
    "        train_pred=model.predict(x_validation2)\n",
    "        mse=mean_squared_error(y_validation2,train_pred,squared=True)\n",
    "            \n",
    "        if i==2e-10 and j==2e-15:\n",
    "            mse_1_1 += mse\n",
    "        if i==2e-10 and j==2e-10:\n",
    "            mse_1_2 += mse\n",
    "        if i==2e-10 and j==2e-1:\n",
    "            mse_1_3 += mse\n",
    "        if i==2e-6 and j==2e-15:\n",
    "            mse_2_1 += mse\n",
    "        if i==2e-6 and j==2e-10:\n",
    "            mse_2_2 += mse\n",
    "        if i==2e-6 and j==2e-1:\n",
    "            mse_2_3 += mse\n",
    "        if i==2**8 and j==2e-15:\n",
    "            mse_3_1 += mse\n",
    "        if i==2**8 and j==2e-10:\n",
    "            mse_3_2 += mse\n",
    "        if i==2**8 and j==2e-1:\n",
    "            mse_3_3 += mse\n",
    "                \n",
    "print('MSE:')\n",
    "print('mse_2_5:',round((mse_1_1),2))\n",
    "print('mse_2_20:',round((mse_1_2),2))\n",
    "print('mse_2_100:',round((mse_1_3),2))\n",
    "print('mse_6_5:',round((mse_2_1),2))\n",
    "print('mse_6_20:',round((mse_2_2),2))\n",
    "print('mse_6_100:',round((mse_2_3),2))\n",
    "print('mse_8_5:',round((mse_3_1),2))\n",
    "print('mse_8_20:',round((mse_3_2),2))\n",
    "print('mse_8_100:',round((mse_3_3),2))"
   ]
  },
  {
   "cell_type": "code",
   "execution_count": 24,
   "id": "f3298350",
   "metadata": {},
   "outputs": [
    {
     "name": "stdout",
     "output_type": "stream",
     "text": [
      "MSE:\n",
      "mse_2_5: 4308201.15\n",
      "mse_2_20: 4308201.15\n",
      "mse_2_100: 4308201.15\n",
      "mse_6_5: 4210361.1\n",
      "mse_6_20: 4210361.1\n",
      "mse_6_100: 4210361.1\n",
      "mse_8_5: 123272.93\n",
      "mse_8_20: 123272.96\n",
      "mse_8_100: 123311.77\n"
     ]
    }
   ],
   "source": [
    "a = [2e-10,2e-6,2**8]\n",
    "b = [2e-15,2e-10,2e-1]\n",
    "\n",
    "mse_1_1 = 0\n",
    "mse_1_2 = 0\n",
    "mse_1_3 = 0\n",
    "mse_2_1 = 0\n",
    "mse_2_2 = 0\n",
    "mse_2_3 = 0\n",
    "mse_3_1 = 0\n",
    "mse_3_2 = 0\n",
    "mse_3_3 = 0\n",
    "\n",
    "for i in a:\n",
    "    for j in b:\n",
    "        model=SVR(kernel='poly', C=i, epsilon=j)\n",
    "        model.fit(x_train3,y_train3)\n",
    "            \n",
    "        train_pred=model.predict(x_validation3)\n",
    "        mse=mean_squared_error(y_validation3,train_pred,squared=True)\n",
    "            \n",
    "        if i==2e-10 and j==2e-15:\n",
    "            mse_1_1 += mse\n",
    "        if i==2e-10 and j==2e-10:\n",
    "            mse_1_2 += mse\n",
    "        if i==2e-10 and j==2e-1:\n",
    "            mse_1_3 += mse\n",
    "        if i==2e-6 and j==2e-15:\n",
    "            mse_2_1 += mse\n",
    "        if i==2e-6 and j==2e-10:\n",
    "            mse_2_2 += mse\n",
    "        if i==2e-6 and j==2e-1:\n",
    "            mse_2_3 += mse\n",
    "        if i==2**8 and j==2e-15:\n",
    "            mse_3_1 += mse\n",
    "        if i==2**8 and j==2e-10:\n",
    "            mse_3_2 += mse\n",
    "        if i==2**8 and j==2e-1:\n",
    "            mse_3_3 += mse\n",
    "                \n",
    "print('MSE:')\n",
    "print('mse_2_5:',round((mse_1_1),2))\n",
    "print('mse_2_20:',round((mse_1_2),2))\n",
    "print('mse_2_100:',round((mse_1_3),2))\n",
    "print('mse_6_5:',round((mse_2_1),2))\n",
    "print('mse_6_20:',round((mse_2_2),2))\n",
    "print('mse_6_100:',round((mse_2_3),2))\n",
    "print('mse_8_5:',round((mse_3_1),2))\n",
    "print('mse_8_20:',round((mse_3_2),2))\n",
    "print('mse_8_100:',round((mse_3_3),2))"
   ]
  },
  {
   "cell_type": "code",
   "execution_count": 25,
   "id": "63e4c933",
   "metadata": {},
   "outputs": [
    {
     "name": "stdout",
     "output_type": "stream",
     "text": [
      "mse_2_5: 4304291.06 +/- 152455.96\n",
      "mse_2_20: 4304291.06 +/- 152455.96\n",
      "mse_2_100: 4304291.06 +/- 152455.96\n",
      "mse_6_5: 3884770.57 +/- 301086.26\n",
      "mse_6_20: 3884770.57 +/- 301086.26\n",
      "mse_6_100: 3884770.57 +/- 301086.26\n",
      "mse_8_5: 501387.38 +/- 550919.18\n",
      "mse_8_20: 371486.94 +/- 367251.44\n",
      "mse_8_100: 288486.41 +/- 258881.13\n"
     ]
    }
   ],
   "source": [
    "mse_2_5 = [4489024.96, 4115647.06, 4308201.15]\n",
    "mse_2_20 = [4489024.96, 4115647.06, 4308201.15]\n",
    "mse_2_100 = [4489024.96, 4115647.06, 4308201.15]\n",
    "mse_6_5 = [3484335.86, 3959614.75, 4210361.1]\n",
    "mse_6_20 = [3484335.86, 3959614.75, 4210361.1]\n",
    "mse_6_100 = [3484335.86, 3959614.75, 4210361.1]\n",
    "mse_8_5 = [1280393.76, 100495.45, 123272.93]\n",
    "mse_8_20 = [890692.39, 100495.46, 123272.96]\n",
    "mse_8_100 = [654035.14, 88112.31, 123311.77]\n",
    "\n",
    "print('mse_2_5:',round(np.mean(mse_2_5),2),'+/-',round(np.std(mse_2_5),2))\n",
    "print('mse_2_20:',round(np.mean(mse_2_20),2),'+/-',round(np.std(mse_2_20),2))\n",
    "print('mse_2_100:',round(np.mean(mse_2_100),2),'+/-',round(np.std(mse_2_100),2))\n",
    "print('mse_6_5:',round(np.mean(mse_6_5),2),'+/-',round(np.std(mse_6_5),2))\n",
    "print('mse_6_20:',round(np.mean(mse_6_20),2),'+/-',round(np.std(mse_6_20),2))\n",
    "print('mse_6_100:',round(np.mean(mse_6_100),2),'+/-',round(np.std(mse_6_100),2))\n",
    "print('mse_8_5:',round(np.mean(mse_8_5),2),'+/-',round(np.std(mse_8_5),2))\n",
    "print('mse_8_20:',round(np.mean(mse_8_20),2),'+/-',round(np.std(mse_8_20),2))\n",
    "print('mse_8_100:',round(np.mean(mse_8_100),2),'+/-',round(np.std(mse_8_100),2))"
   ]
  },
  {
   "cell_type": "code",
   "execution_count": 26,
   "id": "457e62b9",
   "metadata": {},
   "outputs": [
    {
     "name": "stdout",
     "output_type": "stream",
     "text": [
      "train_mse :  80971.1076\n",
      "train_rmse:  284.5542\n",
      "train_mape:  0.0175\n",
      "train_smape:  1.7488\n",
      "train_mase:  1.0889\n",
      "train_mdrae:  1.1571\n",
      "\n",
      "test_mse :  118977.1261\n",
      "test_rmse:  344.9306\n",
      "test_mape:  0.0273\n",
      "test_smape:  2.6809\n",
      "test_mase:  1.675\n",
      "test_mdrae:  2.0963\n"
     ]
    }
   ],
   "source": [
    "x_train, x_test, y_train, y_test = train_test_split(x, y, test_size = 0.2, random_state = 0, shuffle=False)\n",
    "model=SVR(kernel='poly', C=2**8, epsilon=2e-1)\n",
    "model.fit(x_train,y_train)\n",
    "\n",
    "train_pred = model.predict(x_train)\n",
    "train_mse = mean_squared_error(y_train,train_pred,squared=True)\n",
    "train_rmse = mean_squared_error(y_train,train_pred, squared=False)\n",
    "train_mape = mean_absolute_percentage_error(y_train,train_pred)\n",
    "train_smape = 2*np.mean(np.abs(train_pred-y_train)/(np.abs(train_pred)+np.abs(y_train)))*100\n",
    "train_mase = mean_absolute_scaled_error(y_train, train_pred, y_train=y_train)\n",
    "train_mdrae = np.median(np.abs(y_train-train_pred)/(np.abs(y_train-x_train['Close-1'])))\n",
    "\n",
    "test_pred = model.predict(x_test)\n",
    "test_mse = mean_squared_error(y_test,test_pred,squared=True)\n",
    "test_rmse = mean_squared_error(y_test,test_pred, squared=False)\n",
    "test_mape = mean_absolute_percentage_error(y_test,test_pred)\n",
    "test_smape = 2*np.mean(np.abs(test_pred-y_test)/(np.abs(test_pred)+np.abs(y_test)))*100\n",
    "test_mase = mean_absolute_scaled_error(y_test, test_pred, y_train=y_test)\n",
    "test_mdrae = np.median(np.abs(y_test-test_pred)/(np.abs(y_test-x_test['Close-1'])))\n",
    "\n",
    "print('train_mse : ', np.round(train_mse,4))\n",
    "print('train_rmse: ', np.round(train_rmse,4))\n",
    "print('train_mape: ', np.round(train_mape,4))\n",
    "print('train_smape: ', np.round(train_smape,4))\n",
    "print('train_mase: ', np.round(train_mase,4))\n",
    "print('train_mdrae: ', np.round(train_mdrae,4))\n",
    "print('')\n",
    "print('test_mse : ', np.round(test_mse,4))\n",
    "print('test_rmse: ', np.round(test_rmse,4))\n",
    "print('test_mape: ', np.round(test_mape,4))\n",
    "print('test_smape: ', np.round(test_smape,4))\n",
    "print('test_mase: ', np.round(test_mase,4))\n",
    "print('test_mdrae: ', np.round(test_mdrae,4))"
   ]
  },
  {
   "cell_type": "code",
   "execution_count": 27,
   "id": "da7672ae",
   "metadata": {},
   "outputs": [
    {
     "data": {
      "image/png": "[encoded data removed]",
      "text/plain": [
       "<Figure size 432x288 with 1 Axes>"
      ]
     },
     "metadata": {
      "needs_background": "light"
     },
     "output_type": "display_data"
    }
   ],
   "source": [
    "plt.plot(train_pred, color='red', label='train_pred')\n",
    "plt.plot(y_train, color='blue', label='y_train')\n",
    "plt.xlabel('days->')\n",
    "plt.ylabel('prices->')\n",
    "plt.title('SVR_POLY + Expending Window')\n",
    "plt.legend(loc='upper left')\n",
    "plt.show()"
   ]
  },
  {
   "cell_type": "code",
   "execution_count": 28,
   "id": "81d796de",
   "metadata": {},
   "outputs": [
    {
     "data": {
      "image/png": "[encoded data removed]",
      "text/plain": [
       "<Figure size 432x288 with 1 Axes>"
      ]
     },
     "metadata": {
      "needs_background": "light"
     },
     "output_type": "display_data"
    }
   ],
   "source": [
    "y_test = y_test.reset_index(drop=True)\n",
    "plt.plot(test_pred, color='red', label='test_pred')\n",
    "plt.plot(y_test, color='blue', label='y_test')\n",
    "plt.xlabel('days->')\n",
    "plt.ylabel('prices->')\n",
    "plt.title('SVR_POLY +  Expending Window')\n",
    "plt.legend(loc='upper left')\n",
    "plt.show()"
   ]
  },
  {
   "cell_type": "markdown",
   "id": "3b4f36d3",
   "metadata": {},
   "source": [
    "### SVR_POLY Holdout + Cross Validation Rolling Window"
   ]
  },
  {
   "cell_type": "code",
   "execution_count": 29,
   "id": "3ffe15b6",
   "metadata": {},
   "outputs": [],
   "source": [
    "x_train1 = np.array(x[0:62])\n",
    "y_train1 = np.array(y[0:62])\n",
    "x_validation1 = np.array(x[62:124])\n",
    "y_validation1 = np.array(y[62:124])\n",
    "\n",
    "x_train2 = np.array(x[62:124])\n",
    "y_train2 = np.array(y[62:124])\n",
    "x_validation2 = np.array(x[124:186])\n",
    "y_validation2 = np.array(y[124:186])\n",
    "\n",
    "x_train3 = np.array(x[124:186])\n",
    "y_train3 = np.array(y[124:186])\n",
    "x_validation3 = np.array(x[186:250])\n",
    "y_validation3 = np.array(y[186:250])"
   ]
  },
  {
   "cell_type": "code",
   "execution_count": 30,
   "id": "fc6f4aa9",
   "metadata": {},
   "outputs": [
    {
     "name": "stdout",
     "output_type": "stream",
     "text": [
      "MSE:\n",
      "mse_2_5: 4489024.96\n",
      "mse_2_20: 4489024.96\n",
      "mse_2_100: 4489024.96\n",
      "mse_6_5: 3484335.86\n",
      "mse_6_20: 3484335.86\n",
      "mse_6_100: 3484335.86\n",
      "mse_8_5: 1280393.76\n",
      "mse_8_20: 890692.39\n",
      "mse_8_100: 654035.14\n"
     ]
    }
   ],
   "source": [
    "a = [2e-10,2e-6,2**8]\n",
    "b = [2e-15,2e-10,2e-1]\n",
    "\n",
    "mse_1_1 = 0\n",
    "mse_1_2 = 0\n",
    "mse_1_3 = 0\n",
    "mse_2_1 = 0\n",
    "mse_2_2 = 0\n",
    "mse_2_3 = 0\n",
    "mse_3_1 = 0\n",
    "mse_3_2 = 0\n",
    "mse_3_3 = 0\n",
    "\n",
    "for i in a:\n",
    "    for j in b:\n",
    "        model=SVR(kernel='poly', C=i, epsilon=j)\n",
    "        model.fit(x_train1,y_train1)\n",
    "            \n",
    "        train_pred=model.predict(x_validation1)\n",
    "        mse=mean_squared_error(y_validation1,train_pred,squared=True)\n",
    "            \n",
    "        if i==2e-10 and j==2e-15:\n",
    "            mse_1_1 += mse\n",
    "        if i==2e-10 and j==2e-10:\n",
    "            mse_1_2 += mse\n",
    "        if i==2e-10 and j==2e-1:\n",
    "            mse_1_3 += mse\n",
    "        if i==2e-6 and j==2e-15:\n",
    "            mse_2_1 += mse\n",
    "        if i==2e-6 and j==2e-10:\n",
    "            mse_2_2 += mse\n",
    "        if i==2e-6 and j==2e-1:\n",
    "            mse_2_3 += mse\n",
    "        if i==2**8 and j==2e-15:\n",
    "            mse_3_1 += mse\n",
    "        if i==2**8 and j==2e-10:\n",
    "            mse_3_2 += mse\n",
    "        if i==2**8 and j==2e-1:\n",
    "            mse_3_3 += mse\n",
    "                \n",
    "print('MSE:')\n",
    "print('mse_2_5:',round((mse_1_1),2))\n",
    "print('mse_2_20:',round((mse_1_2),2))\n",
    "print('mse_2_100:',round((mse_1_3),2))\n",
    "print('mse_6_5:',round((mse_2_1),2))\n",
    "print('mse_6_20:',round((mse_2_2),2))\n",
    "print('mse_6_100:',round((mse_2_3),2))\n",
    "print('mse_8_5:',round((mse_3_1),2))\n",
    "print('mse_8_20:',round((mse_3_2),2))\n",
    "print('mse_8_100:',round((mse_3_3),2))"
   ]
  },
  {
   "cell_type": "code",
   "execution_count": 31,
   "id": "f1ed83e4",
   "metadata": {},
   "outputs": [
    {
     "name": "stdout",
     "output_type": "stream",
     "text": [
      "MSE:\n",
      "mse_2_5: 1810329.99\n",
      "mse_2_20: 1810329.99\n",
      "mse_2_100: 1810329.99\n",
      "mse_6_5: 1721651.66\n",
      "mse_6_20: 1721651.66\n",
      "mse_6_100: 1721651.66\n",
      "mse_8_5: 133613.28\n",
      "mse_8_20: 68329.49\n",
      "mse_8_100: 68334.91\n"
     ]
    }
   ],
   "source": [
    "a = [2e-10,2e-6,2**8]\n",
    "b = [2e-15,2e-10,2e-1]\n",
    "\n",
    "mse_1_1 = 0\n",
    "mse_1_2 = 0\n",
    "mse_1_3 = 0\n",
    "mse_2_1 = 0\n",
    "mse_2_2 = 0\n",
    "mse_2_3 = 0\n",
    "mse_3_1 = 0\n",
    "mse_3_2 = 0\n",
    "mse_3_3 = 0\n",
    "\n",
    "for i in a:\n",
    "    for j in b:\n",
    "        model=SVR(kernel='poly', C=i, epsilon=j)\n",
    "        model.fit(x_train2,y_train2)\n",
    "            \n",
    "        train_pred=model.predict(x_validation2)\n",
    "        mse=mean_squared_error(y_validation2,train_pred,squared=True)\n",
    "            \n",
    "        if i==2e-10 and j==2e-15:\n",
    "            mse_1_1 += mse\n",
    "        if i==2e-10 and j==2e-10:\n",
    "            mse_1_2 += mse\n",
    "        if i==2e-10 and j==2e-1:\n",
    "            mse_1_3 += mse\n",
    "        if i==2e-6 and j==2e-15:\n",
    "            mse_2_1 += mse\n",
    "        if i==2e-6 and j==2e-10:\n",
    "            mse_2_2 += mse\n",
    "        if i==2e-6 and j==2e-1:\n",
    "            mse_2_3 += mse\n",
    "        if i==2**8 and j==2e-15:\n",
    "            mse_3_1 += mse\n",
    "        if i==2**8 and j==2e-10:\n",
    "            mse_3_2 += mse\n",
    "        if i==2**8 and j==2e-1:\n",
    "            mse_3_3 += mse\n",
    "                \n",
    "print('MSE:')\n",
    "print('mse_2_5:',round((mse_1_1),2))\n",
    "print('mse_2_20:',round((mse_1_2),2))\n",
    "print('mse_2_100:',round((mse_1_3),2))\n",
    "print('mse_6_5:',round((mse_2_1),2))\n",
    "print('mse_6_20:',round((mse_2_2),2))\n",
    "print('mse_6_100:',round((mse_2_3),2))\n",
    "print('mse_8_5:',round((mse_3_1),2))\n",
    "print('mse_8_20:',round((mse_3_2),2))\n",
    "print('mse_8_100:',round((mse_3_3),2))"
   ]
  },
  {
   "cell_type": "code",
   "execution_count": 32,
   "id": "4713b696",
   "metadata": {},
   "outputs": [
    {
     "name": "stdout",
     "output_type": "stream",
     "text": [
      "MSE:\n",
      "mse_2_5: 949699.46\n",
      "mse_2_20: 949699.46\n",
      "mse_2_100: 949699.46\n",
      "mse_6_5: 755309.15\n",
      "mse_6_20: 755309.15\n",
      "mse_6_100: 755309.15\n",
      "mse_8_5: 899893.05\n",
      "mse_8_20: 1313776.37\n",
      "mse_8_100: 369916.8\n"
     ]
    }
   ],
   "source": [
    "a = [2e-10,2e-6,2**8]\n",
    "b = [2e-15,2e-10,2e-1]\n",
    "\n",
    "mse_1_1 = 0\n",
    "mse_1_2 = 0\n",
    "mse_1_3 = 0\n",
    "mse_2_1 = 0\n",
    "mse_2_2 = 0\n",
    "mse_2_3 = 0\n",
    "mse_3_1 = 0\n",
    "mse_3_2 = 0\n",
    "mse_3_3 = 0\n",
    "\n",
    "for i in a:\n",
    "    for j in b:\n",
    "        model=SVR(kernel='poly', C=i, epsilon=j)\n",
    "        model.fit(x_train3,y_train3)\n",
    "            \n",
    "        train_pred=model.predict(x_validation3)\n",
    "        mse=mean_squared_error(y_validation3,train_pred,squared=True)\n",
    "            \n",
    "        if i==2e-10 and j==2e-15:\n",
    "            mse_1_1 += mse\n",
    "        if i==2e-10 and j==2e-10:\n",
    "            mse_1_2 += mse\n",
    "        if i==2e-10 and j==2e-1:\n",
    "            mse_1_3 += mse\n",
    "        if i==2e-6 and j==2e-15:\n",
    "            mse_2_1 += mse\n",
    "        if i==2e-6 and j==2e-10:\n",
    "            mse_2_2 += mse\n",
    "        if i==2e-6 and j==2e-1:\n",
    "            mse_2_3 += mse\n",
    "        if i==2**8 and j==2e-15:\n",
    "            mse_3_1 += mse\n",
    "        if i==2**8 and j==2e-10:\n",
    "            mse_3_2 += mse\n",
    "        if i==2**8 and j==2e-1:\n",
    "            mse_3_3 += mse\n",
    "                \n",
    "print('MSE:')\n",
    "print('mse_2_5:',round((mse_1_1),2))\n",
    "print('mse_2_20:',round((mse_1_2),2))\n",
    "print('mse_2_100:',round((mse_1_3),2))\n",
    "print('mse_6_5:',round((mse_2_1),2))\n",
    "print('mse_6_20:',round((mse_2_2),2))\n",
    "print('mse_6_100:',round((mse_2_3),2))\n",
    "print('mse_8_5:',round((mse_3_1),2))\n",
    "print('mse_8_20:',round((mse_3_2),2))\n",
    "print('mse_8_100:',round((mse_3_3),2))"
   ]
  },
  {
   "cell_type": "code",
   "execution_count": 33,
   "id": "93341d56",
   "metadata": {},
   "outputs": [
    {
     "name": "stdout",
     "output_type": "stream",
     "text": [
      "mse_2_5: 2416351.47 +/- 1507128.12\n",
      "mse_2_20: 2416351.47 +/- 1507128.12\n",
      "mse_2_100: 2416351.47 +/- 1507128.12\n",
      "mse_6_5: 1987098.89 +/- 1129821.04\n",
      "mse_6_20: 1987098.89 +/- 1129821.04\n",
      "mse_6_100: 1987098.89 +/- 1129821.04\n",
      "mse_8_5: 771300.03 +/- 476919.62\n",
      "mse_8_20: 757599.42 +/- 517087.86\n",
      "mse_8_100: 364095.62 +/- 239146.54\n"
     ]
    }
   ],
   "source": [
    "mse_2_5 = [4489024.96, 1810329.99, 949699.46]\n",
    "mse_2_20 = [4489024.96, 1810329.99, 949699.46]\n",
    "mse_2_100 = [4489024.96, 1810329.99, 949699.46]\n",
    "mse_6_5 = [3484335.86, 1721651.66, 755309.15]\n",
    "mse_6_20 = [3484335.86, 1721651.66, 755309.15]\n",
    "mse_6_100 = [3484335.86, 1721651.66, 755309.15]\n",
    "mse_8_5 = [1280393.76, 133613.28, 899893.05]\n",
    "mse_8_20 = [890692.39, 68329.49, 1313776.37]\n",
    "mse_8_100 = [654035.14, 68334.91, 369916.8]\n",
    "\n",
    "print('mse_2_5:',round(np.mean(mse_2_5),2),'+/-',round(np.std(mse_2_5),2))\n",
    "print('mse_2_20:',round(np.mean(mse_2_20),2),'+/-',round(np.std(mse_2_20),2))\n",
    "print('mse_2_100:',round(np.mean(mse_2_100),2),'+/-',round(np.std(mse_2_100),2))\n",
    "print('mse_6_5:',round(np.mean(mse_6_5),2),'+/-',round(np.std(mse_6_5),2))\n",
    "print('mse_6_20:',round(np.mean(mse_6_20),2),'+/-',round(np.std(mse_6_20),2))\n",
    "print('mse_6_100:',round(np.mean(mse_6_100),2),'+/-',round(np.std(mse_6_100),2))\n",
    "print('mse_8_5:',round(np.mean(mse_8_5),2),'+/-',round(np.std(mse_8_5),2))\n",
    "print('mse_8_20:',round(np.mean(mse_8_20),2),'+/-',round(np.std(mse_8_20),2))\n",
    "print('mse_8_100:',round(np.mean(mse_8_100),2),'+/-',round(np.std(mse_8_100),2))"
   ]
  },
  {
   "cell_type": "code",
   "execution_count": 34,
   "id": "2241c52c",
   "metadata": {},
   "outputs": [
    {
     "name": "stdout",
     "output_type": "stream",
     "text": [
      "train_mse :  80971.1076\n",
      "train_rmse:  284.5542\n",
      "train_mape:  0.0175\n",
      "train_smape:  1.7488\n",
      "train_mase:  1.0889\n",
      "train_mdrae:  1.1571\n",
      "\n",
      "test_mse :  118977.1261\n",
      "test_rmse:  344.9306\n",
      "test_mape:  0.0273\n",
      "test_smape:  2.6809\n",
      "test_mase:  1.675\n",
      "test_mdrae:  2.0963\n"
     ]
    }
   ],
   "source": [
    "x_train, x_test, y_train, y_test = train_test_split(x, y, test_size = 0.2, random_state = 0, shuffle=False)\n",
    "model=SVR(kernel='poly', C=2**8, epsilon=2e-1)\n",
    "model.fit(x_train,y_train)\n",
    "\n",
    "train_pred = model.predict(x_train)\n",
    "train_mse = mean_squared_error(y_train,train_pred,squared=True)\n",
    "train_rmse = mean_squared_error(y_train,train_pred, squared=False)\n",
    "train_mape = mean_absolute_percentage_error(y_train,train_pred)\n",
    "train_smape = 2*np.mean(np.abs(train_pred-y_train)/(np.abs(train_pred)+np.abs(y_train)))*100\n",
    "train_mase = mean_absolute_scaled_error(y_train, train_pred, y_train=y_train)\n",
    "train_mdrae = np.median(np.abs(y_train-train_pred)/(np.abs(y_train-x_train['Close-1'])))\n",
    "\n",
    "test_pred = model.predict(x_test)\n",
    "test_mse = mean_squared_error(y_test,test_pred,squared=True)\n",
    "test_rmse = mean_squared_error(y_test,test_pred, squared=False)\n",
    "test_mape = mean_absolute_percentage_error(y_test,test_pred)\n",
    "test_smape = 2*np.mean(np.abs(test_pred-y_test)/(np.abs(test_pred)+np.abs(y_test)))*100\n",
    "test_mase = mean_absolute_scaled_error(y_test, test_pred, y_train=y_test)\n",
    "test_mdrae = np.median(np.abs(y_test-test_pred)/(np.abs(y_test-x_test['Close-1'])))\n",
    "\n",
    "print('train_mse : ', np.round(train_mse,4))\n",
    "print('train_rmse: ', np.round(train_rmse,4))\n",
    "print('train_mape: ', np.round(train_mape,4))\n",
    "print('train_smape: ', np.round(train_smape,4))\n",
    "print('train_mase: ', np.round(train_mase,4))\n",
    "print('train_mdrae: ', np.round(train_mdrae,4))\n",
    "print('')\n",
    "print('test_mse : ', np.round(test_mse,4))\n",
    "print('test_rmse: ', np.round(test_rmse,4))\n",
    "print('test_mape: ', np.round(test_mape,4))\n",
    "print('test_smape: ', np.round(test_smape,4))\n",
    "print('test_mase: ', np.round(test_mase,4))\n",
    "print('test_mdrae: ', np.round(test_mdrae,4))"
   ]
  },
  {
   "cell_type": "code",
   "execution_count": 35,
   "id": "df06c715",
   "metadata": {},
   "outputs": [
    {
     "data": {
      "image/png": "[encoded data removed]",
      "text/plain": [
       "<Figure size 432x288 with 1 Axes>"
      ]
     },
     "metadata": {
      "needs_background": "light"
     },
     "output_type": "display_data"
    }
   ],
   "source": [
    "plt.plot(train_pred, color='red', label='train_pred')\n",
    "plt.plot(y_train, color='blue', label='y_train')\n",
    "plt.xlabel('days->')\n",
    "plt.ylabel('prices->')\n",
    "plt.title('SVR_POLY + Rolling Window')\n",
    "plt.legend(loc='upper left')\n",
    "plt.show()"
   ]
  },
  {
   "cell_type": "code",
   "execution_count": 36,
   "id": "0a47e985",
   "metadata": {},
   "outputs": [
    {
     "data": {
      "image/png": "[encoded data removed]",
      "text/plain": [
       "<Figure size 432x288 with 1 Axes>"
      ]
     },
     "metadata": {
      "needs_background": "light"
     },
     "output_type": "display_data"
    }
   ],
   "source": [
    "y_test = y_test.reset_index(drop=True)\n",
    "plt.plot(test_pred, color='red', label='test_pred')\n",
    "plt.plot(y_test, color='blue', label='y_test')\n",
    "plt.xlabel('days->')\n",
    "plt.ylabel('prices->')\n",
    "plt.title('SVR_POLY + Rolling Window')\n",
    "plt.legend(loc='upper left')\n",
    "plt.show()"
   ]
  },
  {
   "cell_type": "code",
   "execution_count": null,
   "id": "20fe50a3",
   "metadata": {},
   "outputs": [],
   "source": []
  },
  {
   "cell_type": "code",
   "execution_count": null,
   "id": "46d1cfbc",
   "metadata": {},
   "outputs": [],
   "source": []
  },
  {
   "cell_type": "code",
   "execution_count": null,
   "id": "27f2b8ed",
   "metadata": {},
   "outputs": [],
   "source": []
  },
  {
   "cell_type": "code",
   "execution_count": null,
   "id": "352b61dc",
   "metadata": {},
   "outputs": [],
   "source": []
  }
 ],
 "metadata": {
  "kernelspec": {
   "display_name": "Python 3 (ipykernel)",
   "language": "python",
   "name": "python3"
  },
  "language_info": {
   "codemirror_mode": {
    "name": "ipython",
    "version": 3
   },
   "file_extension": ".py",
   "mimetype": "text/x-python",
   "name": "python",
   "nbconvert_exporter": "python",
   "pygments_lexer": "ipython3",
   "version": "3.9.12"
  }
 },
 "nbformat": 4,
 "nbformat_minor": 5
}
