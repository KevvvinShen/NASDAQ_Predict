{
 "cells": [
  {
   "cell_type": "code",
   "execution_count": 1,
   "id": "203943df",
   "metadata": {},
   "outputs": [],
   "source": [
    "#Basic packages always been used\n",
    "import pandas as pd\n",
    "import numpy as np\n",
    "import sktime\n",
    "import matplotlib.pyplot as plt\n",
    "# Function for spilting training & testing data set\n",
    "from sklearn.model_selection import train_test_split\n",
    "# ALgorithm\n",
    "from sklearn import tree\n",
    "from sklearn.svm import SVR\n",
    "from sklearn.tree import DecisionTreeRegressor\n",
    "from sklearn.metrics import mean_squared_error\n",
    "# Functions for evaluation\n",
    "from sklearn.model_selection import cross_val_score\n",
    "from sklearn.metrics import accuracy_score\n",
    "from sklearn.metrics import f1_score\n",
    "from sklearn.metrics import precision_score\n",
    "from sklearn.metrics import recall_score\n",
    "from sklearn.metrics import confusion_matrix\n",
    "from sklearn.metrics import plot_confusion_matrix\n",
    "from sklearn.metrics import plot_roc_curve, roc_auc_score, roc_curve\n",
    "from sklearn.metrics import mean_squared_error, mean_absolute_error, mean_absolute_percentage_error\n",
    "from sktime.performance_metrics.forecasting import mean_absolute_scaled_error"
   ]
  },
  {
   "cell_type": "code",
   "execution_count": 2,
   "id": "ab21374a",
   "metadata": {},
   "outputs": [],
   "source": [
    "data = pd.read_csv(\"nasdaq.csv\")"
   ]
  },
  {
   "cell_type": "code",
   "execution_count": 3,
   "id": "0a18d81e",
   "metadata": {},
   "outputs": [
    {
     "data": {
      "text/html": [
       "<div>\n",
       "<style scoped>\n",
       "    .dataframe tbody tr th:only-of-type {\n",
       "        vertical-align: middle;\n",
       "    }\n",
       "\n",
       "    .dataframe tbody tr th {\n",
       "        vertical-align: top;\n",
       "    }\n",
       "\n",
       "    .dataframe thead th {\n",
       "        text-align: right;\n",
       "    }\n",
       "</style>\n",
       "<table border=\"1\" class=\"dataframe\">\n",
       "  <thead>\n",
       "    <tr style=\"text-align: right;\">\n",
       "      <th></th>\n",
       "      <th>Close-2</th>\n",
       "      <th>Close-1</th>\n",
       "    </tr>\n",
       "  </thead>\n",
       "  <tbody>\n",
       "    <tr>\n",
       "      <th>0</th>\n",
       "      <td>15782.83008</td>\n",
       "      <td>15537.69043</td>\n",
       "    </tr>\n",
       "    <tr>\n",
       "      <th>1</th>\n",
       "      <td>15537.69043</td>\n",
       "      <td>15254.04981</td>\n",
       "    </tr>\n",
       "    <tr>\n",
       "      <th>2</th>\n",
       "      <td>15254.04981</td>\n",
       "      <td>15381.32031</td>\n",
       "    </tr>\n",
       "    <tr>\n",
       "      <th>3</th>\n",
       "      <td>15381.32031</td>\n",
       "      <td>15085.46973</td>\n",
       "    </tr>\n",
       "    <tr>\n",
       "      <th>4</th>\n",
       "      <td>15085.46973</td>\n",
       "      <td>15225.15039</td>\n",
       "    </tr>\n",
       "  </tbody>\n",
       "</table>\n",
       "</div>"
      ],
      "text/plain": [
       "       Close-2      Close-1\n",
       "0  15782.83008  15537.69043\n",
       "1  15537.69043  15254.04981\n",
       "2  15254.04981  15381.32031\n",
       "3  15381.32031  15085.46973\n",
       "4  15085.46973  15225.15039"
      ]
     },
     "execution_count": 3,
     "metadata": {},
     "output_type": "execute_result"
    }
   ],
   "source": [
    "x=data.drop(['Date','Close'],axis=1).copy()\n",
    "x.head()"
   ]
  },
  {
   "cell_type": "code",
   "execution_count": 4,
   "id": "7062b51e",
   "metadata": {},
   "outputs": [
    {
     "data": {
      "text/plain": [
       "0    15254.04981\n",
       "1    15381.32031\n",
       "2    15085.46973\n",
       "3    15225.15039\n",
       "4    15686.91992\n",
       "Name: Close, dtype: float64"
      ]
     },
     "execution_count": 4,
     "metadata": {},
     "output_type": "execute_result"
    }
   ],
   "source": [
    "y=data['Close'].copy()\n",
    "y.head()"
   ]
  },
  {
   "cell_type": "code",
   "execution_count": 8,
   "id": "c95f044e",
   "metadata": {},
   "outputs": [
    {
     "data": {
      "image/png": "[encoded data removed]",
      "text/plain": [
       "<Figure size 432x288 with 1 Axes>"
      ]
     },
     "metadata": {
      "needs_background": "light"
     },
     "output_type": "display_data"
    }
   ],
   "source": [
    "date = data[\"Close\"]\n",
    "plt.plot(date, color='blue', label='Close')\n",
    "plt.xlabel('days->')\n",
    "plt.ylabel('prices->')\n",
    "plt.title('NASDAQ')\n",
    "plt.legend(loc='upper left')\n",
    "plt.show()"
   ]
  },
  {
   "cell_type": "code",
   "execution_count": 5,
   "id": "162edab8",
   "metadata": {
    "scrolled": true
   },
   "outputs": [
    {
     "name": "stdout",
     "output_type": "stream",
     "text": [
      "199\n"
     ]
    }
   ],
   "source": [
    "x_train, x_test, y_train, y_test = train_test_split(x, y, test_size = 0.2, random_state = 0)\n",
    "print(len(y_train))"
   ]
  },
  {
   "cell_type": "markdown",
   "id": "ae0ace3e",
   "metadata": {},
   "source": [
    "### Cart Holdout + Cross Validation Expanding Window"
   ]
  },
  {
   "cell_type": "code",
   "execution_count": 6,
   "id": "b3d83127",
   "metadata": {},
   "outputs": [],
   "source": [
    "x_train1 = np.array(x[0:62])\n",
    "y_train1 = np.array(y[0:62])\n",
    "x_validation1 = np.array(x[62:124])\n",
    "y_validation1 = np.array(y[62:124])\n",
    "\n",
    "x_train2 = np.array(x[0:124])\n",
    "y_train2 = np.array(y[0:124])\n",
    "x_validation2 = np.array(x[124:186])\n",
    "y_validation2 = np.array(y[124:186])\n",
    "\n",
    "x_train3 = np.array(x[0:186])\n",
    "y_train3 = np.array(y[0:186])\n",
    "x_validation3 = np.array(x[186:250])\n",
    "y_validation3 = np.array(y[186:250])"
   ]
  },
  {
   "cell_type": "code",
   "execution_count": 7,
   "id": "d3716f60",
   "metadata": {
    "scrolled": false
   },
   "outputs": [
    {
     "name": "stdout",
     "output_type": "stream",
     "text": [
      "MSE:\n",
      "mse_2_5: 1138335.22\n",
      "mse_2_20: 1138335.22\n",
      "mse_2_100: 1138335.22\n",
      "mse_6_5: 1132309.29\n",
      "mse_6_20: 1282301.72\n",
      "mse_6_100: 1096070.42\n",
      "mse_8_5: 1132309.29\n",
      "mse_8_20: 1282301.72\n",
      "mse_8_100: 1094172.54\n"
     ]
    }
   ],
   "source": [
    "#第一次\n",
    "a = [2,6,8]\n",
    "b = [5,20,100]\n",
    "\n",
    "mse_2_5 = 0\n",
    "mse_2_20 = 0\n",
    "mse_2_100 = 0\n",
    "mse_6_5 = 0\n",
    "mse_6_20 = 0\n",
    "mse_6_100 = 0\n",
    "mse_8_5 = 0\n",
    "mse_8_20 = 0\n",
    "mse_8_100 = 0\n",
    "\n",
    "for i in a:\n",
    "    for j in b:\n",
    "        model_cart=DecisionTreeRegressor(max_depth=i,max_leaf_nodes=j,random_state=0)\n",
    "        model_cart.fit(x_train1,y_train1)\n",
    "            \n",
    "        train_pred=model_cart.predict(x_validation1)\n",
    "        mse=mean_squared_error(y_validation1,train_pred,squared=True)\n",
    "            \n",
    "        if i==2 and j==5:\n",
    "            mse_2_5 += mse\n",
    "        if i==2 and j==20:\n",
    "            mse_2_20 += mse\n",
    "        if i==2 and j==100:\n",
    "            mse_2_100 += mse\n",
    "        if i==6 and j==5:\n",
    "            mse_6_5 += mse\n",
    "        if i==6 and j==20:\n",
    "            mse_6_20 += mse\n",
    "        if i==6 and j==100:\n",
    "            mse_6_100 += mse\n",
    "        if i==8 and j==5:\n",
    "            mse_8_5 += mse\n",
    "        if i==8 and j==20:\n",
    "            mse_8_20 += mse\n",
    "        if i==8 and j==100:\n",
    "            mse_8_100 += mse\n",
    "                \n",
    "print('MSE:')\n",
    "print('mse_2_5:',round((mse_2_5),2))\n",
    "print('mse_2_20:',round((mse_2_20),2))\n",
    "print('mse_2_100:',round((mse_2_100),2))\n",
    "print('mse_6_5:',round((mse_6_5),2))\n",
    "print('mse_6_20:',round((mse_6_20),2))\n",
    "print('mse_6_100:',round((mse_6_100),2))\n",
    "print('mse_8_5:',round((mse_8_5),2))\n",
    "print('mse_8_20:',round((mse_8_20),2))\n",
    "print('mse_8_100:',round((mse_8_100),2))"
   ]
  },
  {
   "cell_type": "code",
   "execution_count": 8,
   "id": "4828a3d1",
   "metadata": {},
   "outputs": [
    {
     "name": "stdout",
     "output_type": "stream",
     "text": [
      "MSE:\n",
      "mse_2_5: 254583.75\n",
      "mse_2_20: 254583.75\n",
      "mse_2_100: 254583.75\n",
      "mse_6_5: 175278.55\n",
      "mse_6_20: 168432.78\n",
      "mse_6_100: 234377.19\n",
      "mse_8_5: 175278.55\n",
      "mse_8_20: 140628.71\n",
      "mse_8_100: 196191.5\n"
     ]
    }
   ],
   "source": [
    "#第二次\n",
    "a = [2,6,8]\n",
    "b = [5,20,100]\n",
    "\n",
    "mse_2_5 = 0\n",
    "mse_2_20 = 0\n",
    "mse_2_100 = 0\n",
    "mse_6_5 = 0\n",
    "mse_6_20 = 0\n",
    "mse_6_100 = 0\n",
    "mse_8_5 = 0\n",
    "mse_8_20 = 0\n",
    "mse_8_100 = 0\n",
    "\n",
    "for i in a:\n",
    "    for j in b:\n",
    "        model_cart=DecisionTreeRegressor(max_depth=i,max_leaf_nodes=j,random_state=0)\n",
    "        model_cart.fit(x_train2,y_train2)\n",
    "            \n",
    "        train_pred=model_cart.predict(x_validation2)\n",
    "        mse=mean_squared_error(y_validation2,train_pred,squared=True)\n",
    "            \n",
    "        if i==2 and j==5:\n",
    "            mse_2_5 += mse\n",
    "        if i==2 and j==20:\n",
    "            mse_2_20 += mse\n",
    "        if i==2 and j==100:\n",
    "            mse_2_100 += mse\n",
    "        if i==6 and j==5:\n",
    "            mse_6_5 += mse\n",
    "        if i==6 and j==20:\n",
    "            mse_6_20 += mse\n",
    "        if i==6 and j==100:\n",
    "            mse_6_100 += mse\n",
    "        if i==8 and j==5:\n",
    "            mse_8_5 += mse\n",
    "        if i==8 and j==20:\n",
    "            mse_8_20 += mse\n",
    "        if i==8 and j==100:\n",
    "            mse_8_100 += mse\n",
    "                \n",
    "print('MSE:')\n",
    "print('mse_2_5:',round((mse_2_5),2))\n",
    "print('mse_2_20:',round((mse_2_20),2))\n",
    "print('mse_2_100:',round((mse_2_100),2))\n",
    "print('mse_6_5:',round((mse_6_5),2))\n",
    "print('mse_6_20:',round((mse_6_20),2))\n",
    "print('mse_6_100:',round((mse_6_100),2))\n",
    "print('mse_8_5:',round((mse_8_5),2))\n",
    "print('mse_8_20:',round((mse_8_20),2))\n",
    "print('mse_8_100:',round((mse_8_100),2))"
   ]
  },
  {
   "cell_type": "code",
   "execution_count": 9,
   "id": "309a59bc",
   "metadata": {},
   "outputs": [
    {
     "name": "stdout",
     "output_type": "stream",
     "text": [
      "MSE:\n",
      "mse_2_5: 416563.09\n",
      "mse_2_20: 416563.09\n",
      "mse_2_100: 416563.09\n",
      "mse_6_5: 416563.09\n",
      "mse_6_20: 106275.09\n",
      "mse_6_100: 110740.96\n",
      "mse_8_5: 416563.09\n",
      "mse_8_20: 106275.09\n",
      "mse_8_100: 127719.22\n"
     ]
    }
   ],
   "source": [
    "#第三次\n",
    "a = [2,6,8]\n",
    "b = [5,20,100]\n",
    "\n",
    "mse_2_5 = 0\n",
    "mse_2_20 = 0\n",
    "mse_2_100 = 0\n",
    "mse_6_5 = 0\n",
    "mse_6_20 = 0\n",
    "mse_6_100 = 0\n",
    "mse_8_5 = 0\n",
    "mse_8_20 = 0\n",
    "mse_8_100 = 0\n",
    "\n",
    "for i in a:\n",
    "    for j in b:\n",
    "        model_cart=DecisionTreeRegressor(max_depth=i,max_leaf_nodes=j,random_state=0)\n",
    "        model_cart.fit(x_train3,y_train3)\n",
    "            \n",
    "        train_pred=model_cart.predict(x_validation3)\n",
    "        mse=mean_squared_error(y_validation3,train_pred,squared=True)\n",
    "            \n",
    "        if i==2 and j==5:\n",
    "            mse_2_5 += mse\n",
    "        if i==2 and j==20:\n",
    "            mse_2_20 += mse\n",
    "        if i==2 and j==100:\n",
    "            mse_2_100 += mse\n",
    "        if i==6 and j==5:\n",
    "            mse_6_5 += mse\n",
    "        if i==6 and j==20:\n",
    "            mse_6_20 += mse\n",
    "        if i==6 and j==100:\n",
    "            mse_6_100 += mse\n",
    "        if i==8 and j==5:\n",
    "            mse_8_5 += mse\n",
    "        if i==8 and j==20:\n",
    "            mse_8_20 += mse\n",
    "        if i==8 and j==100:\n",
    "            mse_8_100 += mse\n",
    "                \n",
    "print('MSE:')\n",
    "print('mse_2_5:',round((mse_2_5),2))\n",
    "print('mse_2_20:',round((mse_2_20),2))\n",
    "print('mse_2_100:',round((mse_2_100),2))\n",
    "print('mse_6_5:',round((mse_6_5),2))\n",
    "print('mse_6_20:',round((mse_6_20),2))\n",
    "print('mse_6_100:',round((mse_6_100),2))\n",
    "print('mse_8_5:',round((mse_8_5),2))\n",
    "print('mse_8_20:',round((mse_8_20),2))\n",
    "print('mse_8_100:',round((mse_8_100),2))"
   ]
  },
  {
   "cell_type": "code",
   "execution_count": 10,
   "id": "ba842e01",
   "metadata": {},
   "outputs": [
    {
     "name": "stdout",
     "output_type": "stream",
     "text": [
      "mse_2_5: 603160.69 +/- 384159.83\n",
      "mse_2_20: 603160.69 +/- 384159.83\n",
      "mse_2_100: 603160.69 +/- 384159.83\n",
      "mse_6_5: 574716.98 +/- 406395.91\n",
      "mse_6_20: 519003.2 +/- 540329.76\n",
      "mse_6_100: 480396.19 +/- 438263.66\n",
      "mse_8_5: 574716.98 +/- 406395.91\n",
      "mse_8_20: 509735.2 +/- 546467.03\n",
      "mse_8_100: 472694.42 +/- 440339.57\n"
     ]
    }
   ],
   "source": [
    "#三次平均\n",
    "mse_2_5 = [1138335.22, 254583.75, 416563.09]\n",
    "mse_2_20 = [1138335.22, 254583.75, 416563.09]\n",
    "mse_2_100 = [1138335.22, 254583.75, 416563.09]\n",
    "mse_6_5 = [1132309.29, 175278.55, 416563.09]\n",
    "mse_6_20 = [1282301.72, 168432.78, 106275.09]\n",
    "mse_6_100 = [1096070.42, 234377.19, 110740.96]\n",
    "mse_8_5 = [1132309.29, 175278.55, 416563.09]\n",
    "mse_8_20 = [1282301.72, 140628.78, 106275.09]\n",
    "mse_8_100 = [1094172.54, 196191.5, 127719.22]\n",
    "\n",
    "print('mse_2_5:',round(np.mean(mse_2_5),2),'+/-',round(np.std(mse_2_5),2))\n",
    "print('mse_2_20:',round(np.mean(mse_2_20),2),'+/-',round(np.std(mse_2_20),2))\n",
    "print('mse_2_100:',round(np.mean(mse_2_100),2),'+/-',round(np.std(mse_2_100),2))\n",
    "print('mse_6_5:',round(np.mean(mse_6_5),2),'+/-',round(np.std(mse_6_5),2))\n",
    "print('mse_6_20:',round(np.mean(mse_6_20),2),'+/-',round(np.std(mse_6_20),2))\n",
    "print('mse_6_100:',round(np.mean(mse_6_100),2),'+/-',round(np.std(mse_6_100),2))\n",
    "print('mse_8_5:',round(np.mean(mse_8_5),2),'+/-',round(np.std(mse_8_5),2))\n",
    "print('mse_8_20:',round(np.mean(mse_8_20),2),'+/-',round(np.std(mse_8_20),2))\n",
    "print('mse_8_100:',round(np.mean(mse_8_100),2),'+/-',round(np.std(mse_8_100),2))"
   ]
  },
  {
   "cell_type": "code",
   "execution_count": 11,
   "id": "0aa28bcc",
   "metadata": {},
   "outputs": [
    {
     "name": "stdout",
     "output_type": "stream",
     "text": [
      "train_mse :  6080.7453\n",
      "train_rmse:  77.9791\n",
      "train_mape:  0.0038\n",
      "train_smape:  0.3806\n",
      "train_mase:  0.235\n",
      "train_mdrae:  0.2069\n",
      "\n",
      "test_mse :  136016.2238\n",
      "test_rmse:  368.8038\n",
      "test_mape:  0.0292\n",
      "test_smape:  2.8727\n",
      "test_mase:  1.7978\n",
      "test_mdrae:  1.8849\n"
     ]
    }
   ],
   "source": [
    "x_train, x_test, y_train, y_test = train_test_split(x, y, test_size = 0.2, random_state = 0, shuffle=False)\n",
    "model_cart=DecisionTreeRegressor(max_depth=8,max_leaf_nodes=100,random_state=0)\n",
    "model_cart.fit(x_train,y_train)\n",
    "\n",
    "train_pred = model_cart.predict(x_train)\n",
    "train_mse = mean_squared_error(y_train,train_pred,squared=True)\n",
    "train_rmse = mean_squared_error(y_train,train_pred, squared=False)\n",
    "train_mape = mean_absolute_percentage_error(y_train,train_pred)\n",
    "train_smape = 2*np.mean(np.abs(train_pred-y_train)/(np.abs(train_pred)+np.abs(y_train)))*100\n",
    "train_mase = mean_absolute_scaled_error(y_train, train_pred, y_train=y_train)\n",
    "train_mdrae = np.median(np.abs(y_train-train_pred)/(np.abs(y_train-x_train['Close-1'])))\n",
    "\n",
    "test_pred = model_cart.predict(x_test)\n",
    "test_mse = mean_squared_error(y_test,test_pred,squared=True)\n",
    "test_rmse = mean_squared_error(y_test,test_pred, squared=False)\n",
    "test_mape = mean_absolute_percentage_error(y_test,test_pred)\n",
    "test_smape = 2*np.mean(np.abs(test_pred-y_test)/(np.abs(test_pred)+np.abs(y_test)))*100\n",
    "test_mase = mean_absolute_scaled_error(y_test, test_pred, y_train=y_test)\n",
    "test_mdrae = np.median(np.abs(y_test-test_pred)/(np.abs(y_test-x_test['Close-1'])))\n",
    "\n",
    "print('train_mse : ', np.round(train_mse,4))\n",
    "print('train_rmse: ', np.round(train_rmse,4))\n",
    "print('train_mape: ', np.round(train_mape,4))\n",
    "print('train_smape: ', np.round(train_smape,4))\n",
    "print('train_mase: ', np.round(train_mase,4))\n",
    "print('train_mdrae: ', np.round(train_mdrae,4))\n",
    "print('')\n",
    "print('test_mse : ', np.round(test_mse,4))\n",
    "print('test_rmse: ', np.round(test_rmse,4))\n",
    "print('test_mape: ', np.round(test_mape,4))\n",
    "print('test_smape: ', np.round(test_smape,4))\n",
    "print('test_mase: ', np.round(test_mase,4))\n",
    "print('test_mdrae: ', np.round(test_mdrae,4))"
   ]
  },
  {
   "cell_type": "code",
   "execution_count": 12,
   "id": "10d8d6f1",
   "metadata": {},
   "outputs": [
    {
     "data": {
      "image/png": "[encoded data removed]",
      "text/plain": [
       "<Figure size 432x288 with 1 Axes>"
      ]
     },
     "metadata": {
      "needs_background": "light"
     },
     "output_type": "display_data"
    }
   ],
   "source": [
    "plt.plot(train_pred, color='red', label='train_pred')\n",
    "plt.plot(y_train, color='blue', label='y_train')\n",
    "plt.xlabel('days->')\n",
    "plt.ylabel('prices->')\n",
    "plt.title('Cart + Expending Window')\n",
    "plt.legend(loc='upper left')\n",
    "plt.show()"
   ]
  },
  {
   "cell_type": "code",
   "execution_count": 13,
   "id": "cc65e580",
   "metadata": {},
   "outputs": [
    {
     "data": {
      "image/png": "[encoded data removed]",
      "text/plain": [
       "<Figure size 432x288 with 1 Axes>"
      ]
     },
     "metadata": {
      "needs_background": "light"
     },
     "output_type": "display_data"
    }
   ],
   "source": [
    "y_test = y_test.reset_index(drop=True)\n",
    "plt.plot(test_pred, color='red', label='test_pred')\n",
    "plt.plot(y_test, color='blue', label='y_test')\n",
    "plt.xlabel('days->')\n",
    "plt.ylabel('prices->')\n",
    "plt.title('Cart + Expending Window')\n",
    "plt.legend(loc='upper left')\n",
    "plt.show()"
   ]
  },
  {
   "cell_type": "markdown",
   "id": "2ff93bd2",
   "metadata": {},
   "source": [
    "### Cart Holdout + Cross Validation Rolling Window"
   ]
  },
  {
   "cell_type": "code",
   "execution_count": 14,
   "id": "72e9fbec",
   "metadata": {},
   "outputs": [],
   "source": [
    "x_train1 = np.array(x[0:62])\n",
    "y_train1 = np.array(y[0:62])\n",
    "x_validation1 = np.array(x[62:124])\n",
    "y_validation1 = np.array(y[62:124])\n",
    "\n",
    "x_train2 = np.array(x[62:124])\n",
    "y_train2 = np.array(y[62:124])\n",
    "x_validation2 = np.array(x[124:186])\n",
    "y_validation2 = np.array(y[124:186])\n",
    "\n",
    "x_train3 = np.array(x[124:186])\n",
    "y_train3 = np.array(y[124:186])\n",
    "x_validation3 = np.array(x[186:250])\n",
    "y_validation3 = np.array(y[186:250])"
   ]
  },
  {
   "cell_type": "code",
   "execution_count": 15,
   "id": "0c80e953",
   "metadata": {},
   "outputs": [
    {
     "name": "stdout",
     "output_type": "stream",
     "text": [
      "MSE:\n",
      "mse_2_5: 1138335\n",
      "mse_2_20: 1138335\n",
      "mse_2_100: 1138335\n",
      "mse_6_5: 1132309\n",
      "mse_6_20: 1282301\n",
      "mse_6_100: 1096070\n",
      "mse_8_5: 1132309\n",
      "mse_8_20: 1282301\n",
      "mse_8_100: 1094172\n"
     ]
    }
   ],
   "source": [
    "a = [2,6,8]\n",
    "b = [5,20,100]\n",
    "\n",
    "mse_2_5 = 0\n",
    "mse_2_20 = 0\n",
    "mse_2_100 = 0\n",
    "mse_6_5 = 0\n",
    "mse_6_20 = 0\n",
    "mse_6_100 = 0\n",
    "mse_8_5 = 0\n",
    "mse_8_20 = 0\n",
    "mse_8_100 = 0\n",
    "\n",
    "for i in a:\n",
    "    for j in b:\n",
    "        model_cart=DecisionTreeRegressor(max_depth=i,max_leaf_nodes=j,random_state=0)\n",
    "        model_cart.fit(x_train1,y_train1)\n",
    "            \n",
    "        train_pred=model_cart.predict(x_validation1)\n",
    "        mse=int(mean_squared_error(y_validation1,train_pred))\n",
    "            \n",
    "        if i==2 and j==5:\n",
    "            mse_2_5 += mse\n",
    "        if i==2 and j==20:\n",
    "            mse_2_20 += mse\n",
    "        if i==2 and j==100:\n",
    "            mse_2_100 += mse\n",
    "        if i==6 and j==5:\n",
    "            mse_6_5 += mse\n",
    "        if i==6 and j==20:\n",
    "            mse_6_20 += mse\n",
    "        if i==6 and j==100:\n",
    "            mse_6_100 += mse\n",
    "        if i==8 and j==5:\n",
    "            mse_8_5 += mse\n",
    "        if i==8 and j==20:\n",
    "            mse_8_20 += mse\n",
    "        if i==8 and j==100:\n",
    "            mse_8_100 += mse\n",
    "                \n",
    "print('MSE:')\n",
    "print('mse_2_5:',round((mse_2_5),2))\n",
    "print('mse_2_20:',round((mse_2_20),2))\n",
    "print('mse_2_100:',round((mse_2_100),2))\n",
    "print('mse_6_5:',round((mse_6_5),2))\n",
    "print('mse_6_20:',round((mse_6_20),2))\n",
    "print('mse_6_100:',round((mse_6_100),2))\n",
    "print('mse_8_5:',round((mse_8_5),2))\n",
    "print('mse_8_20:',round((mse_8_20),2))\n",
    "print('mse_8_100:',round((mse_8_100),2))"
   ]
  },
  {
   "cell_type": "code",
   "execution_count": 16,
   "id": "3895cc21",
   "metadata": {},
   "outputs": [
    {
     "name": "stdout",
     "output_type": "stream",
     "text": [
      "MSE:\n",
      "mse_2_5: 172059\n",
      "mse_2_20: 172059\n",
      "mse_2_100: 172059\n",
      "mse_6_5: 172059\n",
      "mse_6_20: 198883\n",
      "mse_6_100: 274526\n",
      "mse_8_5: 172059\n",
      "mse_8_20: 198883\n",
      "mse_8_100: 264875\n"
     ]
    }
   ],
   "source": [
    "a = [2,6,8]\n",
    "b = [5,20,100]\n",
    "\n",
    "mse_2_5 = 0\n",
    "mse_2_20 = 0\n",
    "mse_2_100 = 0\n",
    "mse_6_5 = 0\n",
    "mse_6_20 = 0\n",
    "mse_6_100 = 0\n",
    "mse_8_5 = 0\n",
    "mse_8_20 = 0\n",
    "mse_8_100 = 0\n",
    "\n",
    "for i in a:\n",
    "    for j in b:\n",
    "        model_cart=DecisionTreeRegressor(max_depth=i,max_leaf_nodes=j,random_state=0)\n",
    "        model_cart.fit(x_train2,y_train2)\n",
    "            \n",
    "        train_pred=model_cart.predict(x_validation2)\n",
    "        mse=int(mean_squared_error(y_validation2,train_pred))\n",
    "            \n",
    "        if i==2 and j==5:\n",
    "            mse_2_5 += mse\n",
    "        if i==2 and j==20:\n",
    "            mse_2_20 += mse\n",
    "        if i==2 and j==100:\n",
    "            mse_2_100 += mse\n",
    "        if i==6 and j==5:\n",
    "            mse_6_5 += mse\n",
    "        if i==6 and j==20:\n",
    "            mse_6_20 += mse\n",
    "        if i==6 and j==100:\n",
    "            mse_6_100 += mse\n",
    "        if i==8 and j==5:\n",
    "            mse_8_5 += mse\n",
    "        if i==8 and j==20:\n",
    "            mse_8_20 += mse\n",
    "        if i==8 and j==100:\n",
    "            mse_8_100 += mse\n",
    "                \n",
    "print('MSE:')\n",
    "print('mse_2_5:',round((mse_2_5),2))\n",
    "print('mse_2_20:',round((mse_2_20),2))\n",
    "print('mse_2_100:',round((mse_2_100),2))\n",
    "print('mse_6_5:',round((mse_6_5),2))\n",
    "print('mse_6_20:',round((mse_6_20),2))\n",
    "print('mse_6_100:',round((mse_6_100),2))\n",
    "print('mse_8_5:',round((mse_8_5),2))\n",
    "print('mse_8_20:',round((mse_8_20),2))\n",
    "print('mse_8_100:',round((mse_8_100),2))"
   ]
  },
  {
   "cell_type": "code",
   "execution_count": 17,
   "id": "ef4b774a",
   "metadata": {},
   "outputs": [
    {
     "name": "stdout",
     "output_type": "stream",
     "text": [
      "MSE:\n",
      "mse_2_5: 137693\n",
      "mse_2_20: 137693\n",
      "mse_2_100: 137693\n",
      "mse_6_5: 134779\n",
      "mse_6_20: 102234\n",
      "mse_6_100: 130456\n",
      "mse_8_5: 134779\n",
      "mse_8_20: 102234\n",
      "mse_8_100: 135557\n"
     ]
    }
   ],
   "source": [
    "a = [2,6,8]\n",
    "b = [5,20,100]\n",
    "\n",
    "mse_2_5 = 0\n",
    "mse_2_20 = 0\n",
    "mse_2_100 = 0\n",
    "mse_6_5 = 0\n",
    "mse_6_20 = 0\n",
    "mse_6_100 = 0\n",
    "mse_8_5 = 0\n",
    "mse_8_20 = 0\n",
    "mse_8_100 = 0\n",
    "\n",
    "for i in a:\n",
    "    for j in b:\n",
    "        model_cart=DecisionTreeRegressor(max_depth=i,max_leaf_nodes=j,random_state=0)\n",
    "        model_cart.fit(x_train3,y_train3)\n",
    "            \n",
    "        train_pred=model_cart.predict(x_validation3)\n",
    "        mse=int(mean_squared_error(y_validation3,train_pred))\n",
    "            \n",
    "        if i==2 and j==5:\n",
    "            mse_2_5 += mse\n",
    "        if i==2 and j==20:\n",
    "            mse_2_20 += mse\n",
    "        if i==2 and j==100:\n",
    "            mse_2_100 += mse\n",
    "        if i==6 and j==5:\n",
    "            mse_6_5 += mse\n",
    "        if i==6 and j==20:\n",
    "            mse_6_20 += mse\n",
    "        if i==6 and j==100:\n",
    "            mse_6_100 += mse\n",
    "        if i==8 and j==5:\n",
    "            mse_8_5 += mse\n",
    "        if i==8 and j==20:\n",
    "            mse_8_20 += mse\n",
    "        if i==8 and j==100:\n",
    "            mse_8_100 += mse\n",
    "                \n",
    "print('MSE:')\n",
    "print('mse_2_5:',round((mse_2_5),2))\n",
    "print('mse_2_20:',round((mse_2_20),2))\n",
    "print('mse_2_100:',round((mse_2_100),2))\n",
    "print('mse_6_5:',round((mse_6_5),2))\n",
    "print('mse_6_20:',round((mse_6_20),2))\n",
    "print('mse_6_100:',round((mse_6_100),2))\n",
    "print('mse_8_5:',round((mse_8_5),2))\n",
    "print('mse_8_20:',round((mse_8_20),2))\n",
    "print('mse_8_100:',round((mse_8_100),2))"
   ]
  },
  {
   "cell_type": "code",
   "execution_count": 18,
   "id": "e5a89420",
   "metadata": {
    "scrolled": true
   },
   "outputs": [
    {
     "name": "stdout",
     "output_type": "stream",
     "text": [
      "mse_2_5: 482695.67 +/- 463819.26\n",
      "mse_2_20: 482695.67 +/- 463819.26\n",
      "mse_2_100: 482695.67 +/- 463819.26\n",
      "mse_6_5: 479715.67 +/- 461704.09\n",
      "mse_6_20: 527806.0 +/- 534965.6\n",
      "mse_6_100: 500350.67 +/- 425323.55\n",
      "mse_8_5: 479715.67 +/- 461704.09\n",
      "mse_8_20: 527806.0 +/- 534965.6\n",
      "mse_8_100: 498201.33 +/- 424708.97\n"
     ]
    }
   ],
   "source": [
    "mse_2_5 = [1138335, 172059, 137693]\n",
    "mse_2_20 = [1138335, 172059, 137693]\n",
    "mse_2_100 = [1138335, 172059, 137693]\n",
    "mse_6_5 = [1132309, 172059, 134779]\n",
    "mse_6_20 = [1282301, 198883, 102234]\n",
    "mse_6_100 = [1096070, 274526, 130456]\n",
    "mse_8_5 = [1132309, 172059, 134779]\n",
    "mse_8_20 = [1282301, 198883, 102234]\n",
    "mse_8_100 = [1094172, 264875, 135557]\n",
    "\n",
    "print('mse_2_5:',round(np.mean(mse_2_5),2),'+/-',round(np.std(mse_2_5),2))\n",
    "print('mse_2_20:',round(np.mean(mse_2_20),2),'+/-',round(np.std(mse_2_20),2))\n",
    "print('mse_2_100:',round(np.mean(mse_2_100),2),'+/-',round(np.std(mse_2_100),2))\n",
    "print('mse_6_5:',round(np.mean(mse_6_5),2),'+/-',round(np.std(mse_6_5),2))\n",
    "print('mse_6_20:',round(np.mean(mse_6_20),2),'+/-',round(np.std(mse_6_20),2))\n",
    "print('mse_6_100:',round(np.mean(mse_6_100),2),'+/-',round(np.std(mse_6_100),2))\n",
    "print('mse_8_5:',round(np.mean(mse_8_5),2),'+/-',round(np.std(mse_8_5),2))\n",
    "print('mse_8_20:',round(np.mean(mse_8_20),2),'+/-',round(np.std(mse_8_20),2))\n",
    "print('mse_8_100:',round(np.mean(mse_8_100),2),'+/-',round(np.std(mse_8_100),2))"
   ]
  },
  {
   "cell_type": "code",
   "execution_count": 19,
   "id": "aa14337e",
   "metadata": {},
   "outputs": [
    {
     "name": "stdout",
     "output_type": "stream",
     "text": [
      "train_mse : 103871.7621\n",
      "train_rmse:   322.2914\n",
      "train_mape:   0.0205\n",
      "train_smape:   2.0479\n",
      "train_mase:   1.2844\n",
      "train_mdrae:   1.3898\n",
      "\n",
      "test_mse : 236623.8263\n",
      "test_rmse:   486.44\n",
      "test_mape:   0.0373\n",
      "test_smape:   3.6321\n",
      "test_mase:   2.2786\n",
      "test_mdrae:   2.5561\n"
     ]
    }
   ],
   "source": [
    "x_train, x_test, y_train, y_test = train_test_split(x, y, test_size = 0.2, random_state = 0, shuffle=False)\n",
    "model_cart=DecisionTreeRegressor(max_depth=8,max_leaf_nodes=5,random_state=0)\n",
    "model_cart.fit(x_train,y_train)\n",
    "\n",
    "train_pred = model_cart.predict(x_train)\n",
    "train_mse = mean_squared_error(y_train,train_pred,squared=True)\n",
    "train_rmse = mean_squared_error(y_train,train_pred, squared=False)\n",
    "train_mape = mean_absolute_percentage_error(y_train,train_pred)\n",
    "train_smape = 2*np.mean(np.abs(train_pred-y_train)/(np.abs(train_pred)+np.abs(y_train)))*100\n",
    "train_mase = mean_absolute_scaled_error(y_train, train_pred, y_train=y_train)\n",
    "train_mdrae = np.median(np.abs(y_train-train_pred)/(np.abs(y_train-x_train['Close-1'])))\n",
    "\n",
    "test_pred = model_cart.predict(x_test)\n",
    "test_mse = mean_squared_error(y_test,test_pred,squared=True)\n",
    "test_rmse = mean_squared_error(y_test,test_pred, squared=False)\n",
    "test_mape = mean_absolute_percentage_error(y_test,test_pred)\n",
    "test_smape = 2*np.mean(np.abs(test_pred-y_test)/(np.abs(test_pred)+np.abs(y_test)))*100\n",
    "test_mase = mean_absolute_scaled_error(y_test, test_pred, y_train=y_test)\n",
    "test_mdrae = np.median(np.abs(y_test-test_pred)/(np.abs(y_test-x_test['Close-1'])))\n",
    "\n",
    "print('train_mse :', np.round(train_mse,4))\n",
    "print('train_rmse:  ', np.round(train_rmse,4))\n",
    "print('train_mape:  ', np.round(train_mape,4))\n",
    "print('train_smape:  ', np.round(train_smape,4))\n",
    "print('train_mase:  ', np.round(train_mase,4))\n",
    "print('train_mdrae:  ', np.round(train_mdrae,4))\n",
    "print('')\n",
    "print('test_mse :', np.round(test_mse,4))\n",
    "print('test_rmse:  ', np.round(test_rmse,4))\n",
    "print('test_mape:  ', np.round(test_mape,4))\n",
    "print('test_smape:  ', np.round(test_smape,4))\n",
    "print('test_mase:  ', np.round(test_mase,4))\n",
    "print('test_mdrae:  ', np.round(test_mdrae,4))"
   ]
  },
  {
   "cell_type": "code",
   "execution_count": 20,
   "id": "fa6d2d0f",
   "metadata": {},
   "outputs": [
    {
     "data": {
      "image/png": "[encoded data removed]",
      "text/plain": [
       "<Figure size 432x288 with 1 Axes>"
      ]
     },
     "metadata": {
      "needs_background": "light"
     },
     "output_type": "display_data"
    }
   ],
   "source": [
    "plt.plot(train_pred, color='red', label='train_pred')\n",
    "plt.plot(y_train, color='blue', label='y_train')\n",
    "plt.xlabel('days->')\n",
    "plt.ylabel('prices->')\n",
    "plt.title('Cart + Rolling Window')\n",
    "plt.legend(loc='upper left')\n",
    "plt.show()"
   ]
  },
  {
   "cell_type": "code",
   "execution_count": 21,
   "id": "215cbc39",
   "metadata": {},
   "outputs": [
    {
     "data": {
      "image/png": "[encoded data removed]",
      "text/plain": [
       "<Figure size 432x288 with 1 Axes>"
      ]
     },
     "metadata": {
      "needs_background": "light"
     },
     "output_type": "display_data"
    }
   ],
   "source": [
    "y_test = y_test.reset_index(drop=True)\n",
    "plt.plot(test_pred, color='red', label='test_pred')\n",
    "plt.plot(y_test, color='blue', label='y_test')\n",
    "plt.xlabel('days->')\n",
    "plt.ylabel('prices->')\n",
    "plt.title('Cart + Rolling Window')\n",
    "plt.legend(loc='best')\n",
    "plt.show()"
   ]
  },
  {
   "cell_type": "code",
   "execution_count": null,
   "id": "4be7d8d3",
   "metadata": {},
   "outputs": [],
   "source": []
  },
  {
   "cell_type": "code",
   "execution_count": null,
   "id": "8b1a575e",
   "metadata": {},
   "outputs": [],
   "source": []
  },
  {
   "cell_type": "code",
   "execution_count": null,
   "id": "fc5d8919",
   "metadata": {},
   "outputs": [],
   "source": []
  }
 ],
 "metadata": {
  "kernelspec": {
   "display_name": "Python 3 (ipykernel)",
   "language": "python",
   "name": "python3"
  },
  "language_info": {
   "codemirror_mode": {
    "name": "ipython",
    "version": 3
   },
   "file_extension": ".py",
   "mimetype": "text/x-python",
   "name": "python",
   "nbconvert_exporter": "python",
   "pygments_lexer": "ipython3",
   "version": "3.9.12"
  }
 },
 "nbformat": 4,
 "nbformat_minor": 5
}
